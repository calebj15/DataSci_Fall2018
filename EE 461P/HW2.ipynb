{
 "cells": [
  {
   "cell_type": "markdown",
   "metadata": {},
   "source": [
    "\n",
    "# <p style=\"text-align: center;\">EE 461P: Data Science Principles</p>\n",
    "# <p style=\"text-align: center;\">Assignment 2</p>\n",
    "## <p style=\"text-align: center;\">Total points: 85</p>\n",
    "## <p style=\"text-align: center;\">Due: Tuesday, October 2nd, submitted via Canvas by 11:59 pm</p>\n",
    "\n",
    "Your homework should be written in a **Jupyter notebook**. You may work in groups of two if you wish. Only one student per team needs to submit the assignment on Canvas.  **Please include the name and UTEID for both students on all submitted files (including this notebook).**\n",
    "\n",
    "Also, please make sure your code runs and the graphics (and anything else) are displayed in your notebook before submitting. (%matplotlib inline)"
   ]
  },
  {
   "cell_type": "markdown",
   "metadata": {},
   "source": [
    "# Question 0. Bias-variance (15pts)\n",
    "Use the following code to read in a small set of data and divide it into training and testing sets. Inputs are x; outputs are y."
   ]
  },
  {
   "cell_type": "code",
   "execution_count": 135,
   "metadata": {
    "collapsed": true
   },
   "outputs": [],
   "source": [
    "import numpy as np\n",
    "\n",
    "data_train = np.genfromtxt('data_q0_train.csv', delimiter=',')\n",
    "x_train = data_train[:,0].reshape(-1, 1)\n",
    "y_train = data_train[:,1].reshape(-1, 1)\n",
    "\n",
    "data_test = np.genfromtxt('data_q0_test.csv', delimiter=',')\n",
    "x_test = data_test[:,0].reshape(-1, 1)\n",
    "y_test = data_test[:,1].reshape(-1, 1)"
   ]
  },
  {
   "cell_type": "markdown",
   "metadata": {},
   "source": [
    "We want to build a model that can predict y for unknown inputs x.\n",
    "\n",
    "(a) (5pts) Fit a linear model to the training data, and report mean squared error on the test data. Plot the data, fitted model, and predictions, clearly denoting the training, testing, and predicted points.\n",
    "\n",
    "(b) (5pts) Fit polynomial models of degrees 1, 2, 3, and 5 to the training data, and report mean squared error for both models. Plot the data, the fitted models, and the predicted outputs.\n",
    "\n",
    "(c) (5pts) Which model performed the best? Explain using the bias-variance tradeoff.\n",
    "\n",
    "## Answer"
   ]
  },
  {
   "cell_type": "markdown",
   "metadata": {},
   "source": [
    "# 0.a)"
   ]
  },
  {
   "cell_type": "code",
   "execution_count": 137,
   "metadata": {},
   "outputs": [
    {
     "name": "stdout",
     "output_type": "stream",
     "text": [
      "6455.70845383\n"
     ]
    },
    {
     "data": {
      "image/png": "[encoded data removed]",
      "text/plain": [
       "<matplotlib.figure.Figure at 0x114ef41d0>"
      ]
     },
     "metadata": {},
     "output_type": "display_data"
    },
    {
     "data": {
      "text/plain": [
       "array([[ 52.63157895],\n",
       "       [ 57.89473684],\n",
       "       [ 89.47368421],\n",
       "       [ 10.52631579]])"
      ]
     },
     "execution_count": 137,
     "metadata": {},
     "output_type": "execute_result"
    }
   ],
   "source": [
    "from sklearn.linear_model import LinearRegression\n",
    "from sklearn import metrics\n",
    "import matplotlib.pyplot as plt\n",
    "import matplotlib.patches\n",
    "import matplotlib.lines\n",
    "import pandas as pd\n",
    "\n",
    "%matplotlib inline\n",
    "\n",
    "lr = LinearRegression()\n",
    "lr.fit(x_train, y_train)\n",
    "\n",
    "y_pred = lr.predict(x_test)\n",
    "\n",
    "print(metrics.mean_squared_error(y_test, y_pred))\n",
    "plt.scatter(x_test, y_test, color='black')\n",
    "plt.scatter(x_train, y_train, color='purple')\n",
    "plt.plot(x_test, y_pred, color='blue', linewidth=3)\n",
    "plt.scatter(x_test,y_pred,color=\"red\",marker=\"^\",linewidth=4)\n",
    "black_patch = matplotlib.patches.Patch(color='black', label='Test data')\n",
    "purple_patch = matplotlib.patches.Patch(color='purple', label='Training data')\n",
    "blue_patch = matplotlib.patches.Patch(color='blue', label='Fitted Model')\n",
    "red_patch = matplotlib.patches.Patch(color='red', label='Test Predictions')\n",
    "plt.legend(handles=[black_patch, purple_patch, blue_patch,red_patch])\n",
    "\n",
    "plt.show()\n",
    "x_test"
   ]
  },
  {
   "cell_type": "markdown",
   "metadata": {},
   "source": [
    "# 0.b)"
   ]
  },
  {
   "cell_type": "code",
   "execution_count": 139,
   "metadata": {
    "collapsed": true
   },
   "outputs": [],
   "source": [
    "def fit_poly_model(order=1):  \n",
    "    data_train = np.genfromtxt('data_q0_train.csv', delimiter=',')\n",
    "    x_train = data_train[:,0].reshape(-1, 1)\n",
    "    y_train = data_train[:,1].reshape(-1, 1)\n",
    "\n",
    "    data_test = np.genfromtxt('data_q0_test.csv', delimiter=',')\n",
    "    x_test = data_test[:,0].reshape(-1, 1)\n",
    "    y_test = data_test[:,1].reshape(-1, 1)\n",
    "\n",
    "    x_train = x_train.ravel()\n",
    "    y_train = y_train.ravel()\n",
    "\n",
    "    x_test = np.sort(x_test.ravel())\n",
    "\n",
    "    m = np.polyfit(x_train, y_train, order)\n",
    "    y = np.polyval(m, x_test)\n",
    "\n",
    "    x_model_fit = range(0,100)\n",
    "    y_model_fit =np.polyval(m,x_model_fit)\n",
    "\n",
    "    plt.plot(x_model_fit,y_model_fit,color='blue')\n",
    "    plt.scatter(x_test, y_test, color='black')\n",
    "    plt.scatter(x_train, y_train, color='purple')\n",
    "    plt.scatter(x_test, y, color='red',marker=\"^\", linewidth=4)\n",
    "\n",
    "    black_patch = matplotlib.patches.Patch(color='black', label='Test data')\n",
    "    purple_patch = matplotlib.patches.Patch(color='purple', label='Training data')\n",
    "    blue_patch = matplotlib.patches.Patch(color='blue', label='Fitted Model')\n",
    "    red_patch = matplotlib.patches.Patch(color='red', label='Test Predictions')\n",
    "    plt.legend(handles=[black_patch, purple_patch, blue_patch,red_patch])\n",
    "    plt.title(\"Linear Regression with Polynomial of Order \" + str(order))\n",
    "\n",
    "    y_test = y_test.transpose().ravel()\n",
    "    mse = ((y - y_test)**2).mean(axis=0)\n",
    "\n",
    "    plt.show()\n",
    "\n",
    "    print(\"MSE for order \" + str(order) + \" polynomial is: \" + str(mse))"
   ]
  },
  {
   "cell_type": "code",
   "execution_count": 140,
   "metadata": {},
   "outputs": [
    {
     "data": {
      "image/png": "[encoded data removed]",
      "text/plain": [
       "<matplotlib.figure.Figure at 0x115043b50>"
      ]
     },
     "metadata": {},
     "output_type": "display_data"
    },
    {
     "name": "stdout",
     "output_type": "stream",
     "text": [
      "MSE for order 1 polynomial is: 32992.971755\n"
     ]
    }
   ],
   "source": [
    "fit_poly_model(order=1)"
   ]
  },
  {
   "cell_type": "code",
   "execution_count": 141,
   "metadata": {},
   "outputs": [
    {
     "data": {
      "image/png": "[encoded data removed]",
      "text/plain": [
       "<matplotlib.figure.Figure at 0x115105810>"
      ]
     },
     "metadata": {},
     "output_type": "display_data"
    },
    {
     "name": "stdout",
     "output_type": "stream",
     "text": [
      "MSE for order 2 polynomial is: 38973.5653627\n"
     ]
    }
   ],
   "source": [
    "fit_poly_model(order=2)"
   ]
  },
  {
   "cell_type": "code",
   "execution_count": 142,
   "metadata": {},
   "outputs": [
    {
     "data": {
      "image/png": "[encoded data removed]",
      "text/plain": [
       "<matplotlib.figure.Figure at 0x114fb8650>"
      ]
     },
     "metadata": {},
     "output_type": "display_data"
    },
    {
     "name": "stdout",
     "output_type": "stream",
     "text": [
      "MSE for order 3 polynomial is: 39112.2694617\n"
     ]
    }
   ],
   "source": [
    "fit_poly_model(order=3)"
   ]
  },
  {
   "cell_type": "code",
   "execution_count": 143,
   "metadata": {},
   "outputs": [
    {
     "data": {
      "image/png": "[encoded data removed]",
      "text/plain": [
       "<matplotlib.figure.Figure at 0x10f985190>"
      ]
     },
     "metadata": {},
     "output_type": "display_data"
    },
    {
     "name": "stdout",
     "output_type": "stream",
     "text": [
      "MSE for order 5 polynomial is: 50418.954766\n"
     ]
    }
   ],
   "source": [
    "fit_poly_model(order=5)"
   ]
  },
  {
   "cell_type": "markdown",
   "metadata": {},
   "source": [
    "# 0.c)\n",
    "### The first order polynomail fit our data better than the the 2nd, 3rd or 5th order polynomails. This makes sense as increasing the complexity of our model ought to make the bias go down (if averaged over many many samples) while increasing our variance. We observed this decrease in bias in that our predictions fell toward the center of the cloud of training data points, and we observed the increase in variance in the greater MSE."
   ]
  },
  {
   "cell_type": "markdown",
   "metadata": {},
   "source": [
    "# Question 1. Data Exploration (23pts)\n",
    "Use the following code to import the dataset."
   ]
  },
  {
   "cell_type": "code",
   "execution_count": 136,
   "metadata": {
    "collapsed": true
   },
   "outputs": [],
   "source": [
    "import pandas as pd\n",
    "import matplotlib.pyplot as plt\n",
    "%matplotlib inline\n",
    "\n",
    "#read the data\n",
    "data = pd.read_csv('data_q1.csv', index_col=0)"
   ]
  },
  {
   "cell_type": "markdown",
   "metadata": {},
   "source": [
    "The columns are:\n",
    "  * TV: advertising dollars spent on TV for a single product (in thousands of dollars)\n",
    "  * Radio: advertising dollars spent on Radio\n",
    "  * Newspaper: advertising dollars spent on Newspaper\n",
    "  * Sales (dependent variable): sales of a single product in a given market (in thousands of widgets)\n",
    "\n",
    "We are interested in predicting sales based on the first three \"feature\" variables (TV, Radio and Newspaper).\n",
    "\n",
    "(a) (2pt) Print the shape (number of rows and columns) of the data matrix and show the first 5 rows.\n",
    "\n",
    "(b) (4pts) Generate box-plots for each of the four columns and identify the cutoff values for outliers. \n",
    "\n",
    "(c) (4pts) Visualize the relationship between the features and the response variable (Sales) using scatterplots. Comment on the fits.\n",
    "\n",
    "(d) (4pts) Fit a simple linear regression of 'Sales' on 'TV'. What is the regression coefficient for 'TV'? What is its interpretation?"
   ]
  },
  {
   "cell_type": "markdown",
   "metadata": {},
   "source": [
    "Now split the data randomly into a training and test set (keep one third of the data for test).\n",
    "\n",
    "(e) (4pts) Fit an MLR on all the feature variables using the training data and evaluate the trained model on the test data using root mean squared error.\n",
    "\n",
    "(f) (3pts) Report the MSE obtained on train data. How much does this increase when you score your model on test data?\n",
    "\n",
    "(g) (2pts) Report the coefficients obtained by your model.\n",
    "\n",
    "## Answer"
   ]
  },
  {
   "cell_type": "markdown",
   "metadata": {},
   "source": [
    "# 1.a)"
   ]
  },
  {
   "cell_type": "code",
   "execution_count": 144,
   "metadata": {},
   "outputs": [
    {
     "name": "stdout",
     "output_type": "stream",
     "text": [
      "(200, 4)\n"
     ]
    },
    {
     "data": {
      "text/html": [
       "<div>\n",
       "<style>\n",
       "    .dataframe thead tr:only-child th {\n",
       "        text-align: right;\n",
       "    }\n",
       "\n",
       "    .dataframe thead th {\n",
       "        text-align: left;\n",
       "    }\n",
       "\n",
       "    .dataframe tbody tr th {\n",
       "        vertical-align: top;\n",
       "    }\n",
       "</style>\n",
       "<table border=\"1\" class=\"dataframe\">\n",
       "  <thead>\n",
       "    <tr style=\"text-align: right;\">\n",
       "      <th></th>\n",
       "      <th>TV</th>\n",
       "      <th>Radio</th>\n",
       "      <th>Newspaper</th>\n",
       "      <th>Sales</th>\n",
       "    </tr>\n",
       "  </thead>\n",
       "  <tbody>\n",
       "    <tr>\n",
       "      <th>1</th>\n",
       "      <td>230.1</td>\n",
       "      <td>37.8</td>\n",
       "      <td>69.2</td>\n",
       "      <td>22.1</td>\n",
       "    </tr>\n",
       "    <tr>\n",
       "      <th>2</th>\n",
       "      <td>44.5</td>\n",
       "      <td>39.3</td>\n",
       "      <td>45.1</td>\n",
       "      <td>10.4</td>\n",
       "    </tr>\n",
       "    <tr>\n",
       "      <th>3</th>\n",
       "      <td>17.2</td>\n",
       "      <td>45.9</td>\n",
       "      <td>69.3</td>\n",
       "      <td>9.3</td>\n",
       "    </tr>\n",
       "    <tr>\n",
       "      <th>4</th>\n",
       "      <td>151.5</td>\n",
       "      <td>41.3</td>\n",
       "      <td>58.5</td>\n",
       "      <td>18.5</td>\n",
       "    </tr>\n",
       "    <tr>\n",
       "      <th>5</th>\n",
       "      <td>180.8</td>\n",
       "      <td>10.8</td>\n",
       "      <td>58.4</td>\n",
       "      <td>12.9</td>\n",
       "    </tr>\n",
       "  </tbody>\n",
       "</table>\n",
       "</div>"
      ],
      "text/plain": [
       "      TV  Radio  Newspaper  Sales\n",
       "1  230.1   37.8       69.2   22.1\n",
       "2   44.5   39.3       45.1   10.4\n",
       "3   17.2   45.9       69.3    9.3\n",
       "4  151.5   41.3       58.5   18.5\n",
       "5  180.8   10.8       58.4   12.9"
      ]
     },
     "execution_count": 144,
     "metadata": {},
     "output_type": "execute_result"
    }
   ],
   "source": [
    "print(data.shape)\n",
    "data.head(n=5)"
   ]
  },
  {
   "cell_type": "markdown",
   "metadata": {},
   "source": [
    "# 1.b)"
   ]
  },
  {
   "cell_type": "code",
   "execution_count": 145,
   "metadata": {},
   "outputs": [
    {
     "data": {
      "text/plain": [
       "<matplotlib.axes._subplots.AxesSubplot at 0x1150b23d0>"
      ]
     },
     "execution_count": 145,
     "metadata": {},
     "output_type": "execute_result"
    },
    {
     "data": {
      "image/png": "[encoded data removed]",
      "text/plain": [
       "<matplotlib.figure.Figure at 0x114fca510>"
      ]
     },
     "metadata": {},
     "output_type": "display_data"
    }
   ],
   "source": [
    "data.boxplot(column=['TV', 'Radio', 'Newspaper', 'Sales'])"
   ]
  },
  {
   "cell_type": "markdown",
   "metadata": {},
   "source": [
    "# Outliers are any datapoints outside the following ranges:\n",
    "    TV:         75<np<220\n",
    "    Radio:      10<np<40\n",
    "    Newspaper:  15<np<48\n",
    "    Sales:      5<np<20"
   ]
  },
  {
   "cell_type": "markdown",
   "metadata": {},
   "source": [
    "# 1.c)"
   ]
  },
  {
   "cell_type": "code",
   "execution_count": 147,
   "metadata": {},
   "outputs": [
    {
     "data": {
      "text/plain": [
       "<matplotlib.text.Text at 0x1155aa1d0>"
      ]
     },
     "execution_count": 147,
     "metadata": {},
     "output_type": "execute_result"
    },
    {
     "data": {
      "image/png": "[encoded data removed]",
      "text/plain": [
       "<matplotlib.figure.Figure at 0x115617790>"
      ]
     },
     "metadata": {},
     "output_type": "display_data"
    }
   ],
   "source": [
    "plt.scatter(data['TV'], data['Sales'])\n",
    "plt.title('TV vs Sales')"
   ]
  },
  {
   "cell_type": "code",
   "execution_count": 148,
   "metadata": {
    "scrolled": true
   },
   "outputs": [
    {
     "data": {
      "text/plain": [
       "<matplotlib.text.Text at 0x114dce990>"
      ]
     },
     "execution_count": 148,
     "metadata": {},
     "output_type": "execute_result"
    },
    {
     "data": {
      "image/png": "[encoded data removed]",
      "text/plain": [
       "<matplotlib.figure.Figure at 0x1157551d0>"
      ]
     },
     "metadata": {},
     "output_type": "display_data"
    }
   ],
   "source": [
    "plt.scatter(data['Radio'], data['Sales'])\n",
    "plt.title('Radio vs Sales')"
   ]
  },
  {
   "cell_type": "code",
   "execution_count": 149,
   "metadata": {},
   "outputs": [
    {
     "data": {
      "text/plain": [
       "<matplotlib.text.Text at 0x11488a110>"
      ]
     },
     "execution_count": 149,
     "metadata": {},
     "output_type": "execute_result"
    },
    {
     "data": {
      "image/png": "[encoded data removed]",
      "text/plain": [
       "<matplotlib.figure.Figure at 0x114c13110>"
      ]
     },
     "metadata": {},
     "output_type": "display_data"
    }
   ],
   "source": [
    "plt.scatter(data['Newspaper'], data['Sales'])\n",
    "plt.title('Newspaper vs Sales')"
   ]
  },
  {
   "cell_type": "markdown",
   "metadata": {},
   "source": [
    "### We observe an approximately linear trend between amount of TV dollars spent and number of widgets sold, It looks logarithmic near zero, but there is not enough data to confidently say it is a logarithmic trend. Past 100K dollars spent, the variance in sales grows rapidly and should be renormalized in preproccessing otherwise you risk very low degrees of confidence in your predictions.\n",
    "\n",
    "### Toward the upper boundary of our data we observe a strong linear trend between Radio dollars and widgets sold, but the data is also relatively messy under this primary linear trend. These outliers will probably affect the offset of the fitted model but does not seem like it will affect slope as it is consistent across the dollars sold axis.  \n",
    "\n",
    "### The lack of very low sales past 20k dollars spent, suggests some correlation in newspaper spending and sales, but there doesn't seem to be a polynomial correlation between increases in newspaper ad spending and widget sales. At a glance, it looks as if it could be gaussian, but it seems skewed toward the origin."
   ]
  },
  {
   "cell_type": "markdown",
   "metadata": {},
   "source": [
    "# 1.d)"
   ]
  },
  {
   "cell_type": "code",
   "execution_count": 150,
   "metadata": {},
   "outputs": [
    {
     "name": "stdout",
     "output_type": "stream",
     "text": [
      "Slope = [[ 0.04753664]]\n",
      "Y-Intercept = [ 7.03259355]\n"
     ]
    },
    {
     "data": {
      "image/png": "[encoded data removed]",
      "text/plain": [
       "<matplotlib.figure.Figure at 0x1145faa50>"
      ]
     },
     "metadata": {},
     "output_type": "display_data"
    }
   ],
   "source": [
    "#read fresh data\n",
    "data = pd.read_csv('data_q1.csv', index_col=0)\n",
    "\n",
    "lr = LinearRegression()\n",
    "\n",
    "x_train = pd.DataFrame(data.TV.values.flatten())\n",
    "y_train = pd.DataFrame(data.Sales.values.flatten())\n",
    "\n",
    "lr.fit(x_train, y_train)\n",
    "\n",
    "rng = np.linspace(0,300)\n",
    "newx = pd.DataFrame(rng)\n",
    "y = lr.predict(newx)\n",
    "\n",
    "plt.plot(newx, y)\n",
    "\n",
    "print('Slope = ' + str(lr.coef_))\n",
    "print('Y-Intercept = ' + str(lr.intercept_))\n"
   ]
  },
  {
   "cell_type": "markdown",
   "metadata": {},
   "source": [
    "### The interpretation of the slope and Y-intercept is that they are the two items which make up our linear model. For any X I am given, I will predict Y as Y = .0475x + 7.0326"
   ]
  },
  {
   "cell_type": "code",
   "execution_count": 152,
   "metadata": {
    "collapsed": true
   },
   "outputs": [],
   "source": [
    "from sklearn.model_selection import train_test_split\n",
    "train, test = train_test_split(data, test_size=.333)"
   ]
  },
  {
   "cell_type": "markdown",
   "metadata": {},
   "source": [
    "# 1.e)"
   ]
  },
  {
   "cell_type": "code",
   "execution_count": 153,
   "metadata": {},
   "outputs": [
    {
     "name": "stdout",
     "output_type": "stream",
     "text": [
      "MSE of Test data = 3.01085850048\n",
      "MSE of Training data = 2.69001206759\n",
      "Regression Coefficients: [[ 0.04541429  0.19384358 -0.00276171]]\n"
     ]
    }
   ],
   "source": [
    "lr = LinearRegression()\n",
    "\n",
    "x_train = train.drop(\"Sales\",axis=1)\n",
    "y_train = pd.DataFrame(train.Sales.values.flatten())\n",
    "\n",
    "x_test = test.drop('Sales',axis=1)\n",
    "y_test = pd.DataFrame(test.Sales.values.flatten())\n",
    "lr.fit(x_train, y_train)\n",
    "yhat = pd.DataFrame(lr.predict(x_test).ravel())\n",
    "MSE = ((y_test - yhat)**2).mean()\n",
    "print(\"MSE of Test data = \" + str(MSE[0]))\n",
    "yhat = pd.DataFrame(lr.predict(x_train).ravel())\n",
    "MSE = ((y_train - yhat)**2).mean()\n",
    "print(\"MSE of Training data = \" + str(MSE[0]))\n",
    "print(\"Regression Coefficients: \" + str(lr.coef_))\n",
    "\n"
   ]
  },
  {
   "cell_type": "markdown",
   "metadata": {},
   "source": [
    "# 1.f) \n",
    "### The MSE improves only by about .11 when run on training data. "
   ]
  },
  {
   "cell_type": "markdown",
   "metadata": {},
   "source": [
    "# 1.g)\n",
    "### The coefficients of our model are [0.0473, 0.1835, 0.0039]"
   ]
  },
  {
   "cell_type": "markdown",
   "metadata": {},
   "source": [
    "# Question 2. Regression with Feature Selection and Outlier Detection (20pts)\n",
    "\n",
    "In this problem, we will build a predictive model to estimate the market price using the Dow-Jones index (https://en.wikipedia.org/wiki/Dow_Jones_Industrial_Average). To simplify the problem, we will use previous weeks' price and volume."
   ]
  },
  {
   "cell_type": "code",
   "execution_count": 7,
   "metadata": {
    "scrolled": false
   },
   "outputs": [
    {
     "data": {
      "text/html": [
       "<div>\n",
       "<style>\n",
       "    .dataframe thead tr:only-child th {\n",
       "        text-align: right;\n",
       "    }\n",
       "\n",
       "    .dataframe thead th {\n",
       "        text-align: left;\n",
       "    }\n",
       "\n",
       "    .dataframe tbody tr th {\n",
       "        vertical-align: top;\n",
       "    }\n",
       "</style>\n",
       "<table border=\"1\" class=\"dataframe\">\n",
       "  <thead>\n",
       "    <tr style=\"text-align: right;\">\n",
       "      <th></th>\n",
       "      <th>open</th>\n",
       "      <th>high</th>\n",
       "      <th>low</th>\n",
       "      <th>close</th>\n",
       "      <th>percent_change_price</th>\n",
       "      <th>volume</th>\n",
       "      <th>previous_weeks_volume</th>\n",
       "      <th>percent_change_volume_over_last_wk</th>\n",
       "    </tr>\n",
       "  </thead>\n",
       "  <tbody>\n",
       "    <tr>\n",
       "      <th>1</th>\n",
       "      <td>$16.71</td>\n",
       "      <td>$16.71</td>\n",
       "      <td>$15.64</td>\n",
       "      <td>$15.97</td>\n",
       "      <td>-4.428490</td>\n",
       "      <td>242963398</td>\n",
       "      <td>239655616.0</td>\n",
       "      <td>1.380223</td>\n",
       "    </tr>\n",
       "    <tr>\n",
       "      <th>2</th>\n",
       "      <td>$16.19</td>\n",
       "      <td>$16.38</td>\n",
       "      <td>$15.60</td>\n",
       "      <td>$15.79</td>\n",
       "      <td>-2.470660</td>\n",
       "      <td>138428495</td>\n",
       "      <td>242963398.0</td>\n",
       "      <td>-43.024959</td>\n",
       "    </tr>\n",
       "    <tr>\n",
       "      <th>3</th>\n",
       "      <td>$15.87</td>\n",
       "      <td>$16.63</td>\n",
       "      <td>$15.82</td>\n",
       "      <td>$16.13</td>\n",
       "      <td>1.638310</td>\n",
       "      <td>151379173</td>\n",
       "      <td>138428495.0</td>\n",
       "      <td>9.355500</td>\n",
       "    </tr>\n",
       "    <tr>\n",
       "      <th>4</th>\n",
       "      <td>$16.18</td>\n",
       "      <td>$17.39</td>\n",
       "      <td>$16.18</td>\n",
       "      <td>$17.14</td>\n",
       "      <td>5.933250</td>\n",
       "      <td>154387761</td>\n",
       "      <td>151379173.0</td>\n",
       "      <td>1.987452</td>\n",
       "    </tr>\n",
       "    <tr>\n",
       "      <th>5</th>\n",
       "      <td>$17.33</td>\n",
       "      <td>$17.48</td>\n",
       "      <td>$16.97</td>\n",
       "      <td>$17.37</td>\n",
       "      <td>0.230814</td>\n",
       "      <td>114691279</td>\n",
       "      <td>154387761.0</td>\n",
       "      <td>-25.712195</td>\n",
       "    </tr>\n",
       "  </tbody>\n",
       "</table>\n",
       "</div>"
      ],
      "text/plain": [
       "     open    high     low   close  percent_change_price     volume  \\\n",
       "1  $16.71  $16.71  $15.64  $15.97             -4.428490  242963398   \n",
       "2  $16.19  $16.38  $15.60  $15.79             -2.470660  138428495   \n",
       "3  $15.87  $16.63  $15.82  $16.13              1.638310  151379173   \n",
       "4  $16.18  $17.39  $16.18  $17.14              5.933250  154387761   \n",
       "5  $17.33  $17.48  $16.97  $17.37              0.230814  114691279   \n",
       "\n",
       "   previous_weeks_volume  percent_change_volume_over_last_wk  \n",
       "1            239655616.0                            1.380223  \n",
       "2            242963398.0                          -43.024959  \n",
       "3            138428495.0                            9.355500  \n",
       "4            151379173.0                            1.987452  \n",
       "5            154387761.0                          -25.712195  "
      ]
     },
     "execution_count": 7,
     "metadata": {},
     "output_type": "execute_result"
    }
   ],
   "source": [
    "import numpy as np\n",
    "import pandas as pd\n",
    "from sklearn import linear_model\n",
    "from sklearn.linear_model import LinearRegression\n",
    "from sklearn.metrics import mean_squared_error\n",
    "\n",
    "df = pd.read_csv('dow_jones_index.data')\n",
    "df = df.dropna()\n",
    "X_df = df[[\n",
    "        u'open', u'high', u'low', u'close',\n",
    "        u'percent_change_price',\n",
    "        u'volume', \n",
    "        u'previous_weeks_volume',\n",
    "        u'percent_change_volume_over_last_wk']]\n",
    "\n",
    "feature_name = list(X_df.columns.values)\n",
    "\n",
    "# check the first 5 rows of data loaded\n",
    "pd.DataFrame.head(X_df)\n"
   ]
  },
  {
   "cell_type": "code",
   "execution_count": 4,
   "metadata": {},
   "outputs": [
    {
     "name": "stdout",
     "output_type": "stream",
     "text": [
      "The target values is as below.\n"
     ]
    },
    {
     "data": {
      "text/html": [
       "<div>\n",
       "<style>\n",
       "    .dataframe thead tr:only-child th {\n",
       "        text-align: right;\n",
       "    }\n",
       "\n",
       "    .dataframe thead th {\n",
       "        text-align: left;\n",
       "    }\n",
       "\n",
       "    .dataframe tbody tr th {\n",
       "        vertical-align: top;\n",
       "    }\n",
       "</style>\n",
       "<table border=\"1\" class=\"dataframe\">\n",
       "  <thead>\n",
       "    <tr style=\"text-align: right;\">\n",
       "      <th></th>\n",
       "      <th>next_weeks_open</th>\n",
       "    </tr>\n",
       "  </thead>\n",
       "  <tbody>\n",
       "    <tr>\n",
       "      <th>1</th>\n",
       "      <td>$16.19</td>\n",
       "    </tr>\n",
       "    <tr>\n",
       "      <th>2</th>\n",
       "      <td>$15.87</td>\n",
       "    </tr>\n",
       "    <tr>\n",
       "      <th>3</th>\n",
       "      <td>$16.18</td>\n",
       "    </tr>\n",
       "    <tr>\n",
       "      <th>4</th>\n",
       "      <td>$17.33</td>\n",
       "    </tr>\n",
       "    <tr>\n",
       "      <th>5</th>\n",
       "      <td>$17.39</td>\n",
       "    </tr>\n",
       "  </tbody>\n",
       "</table>\n",
       "</div>"
      ],
      "text/plain": [
       "  next_weeks_open\n",
       "1          $16.19\n",
       "2          $15.87\n",
       "3          $16.18\n",
       "4          $17.33\n",
       "5          $17.39"
      ]
     },
     "execution_count": 4,
     "metadata": {},
     "output_type": "execute_result"
    }
   ],
   "source": [
    "# response\n",
    "y = df[[u'next_weeks_open']]\n",
    "print('The target values is as below.')\n",
    "pd.DataFrame.head(y)"
   ]
  },
  {
   "cell_type": "code",
   "execution_count": 5,
   "metadata": {
    "collapsed": true
   },
   "outputs": [],
   "source": [
    "# data cleaning\n",
    "X = X_df.values\n",
    "for feat in range(X.shape[1]):\n",
    "    try:\n",
    "        if \"$\" in X[0, feat]:\n",
    "            X[:,feat] = [i.split(\"$\")[1] for i in X[:,feat]]\n",
    "    except:\n",
    "        pass\n",
    "X = X.astype('float')\n",
    "\n",
    "# normalization\n",
    "X = (X - np.mean(X, axis=0))/np.std(X, axis=0)\n",
    "\n",
    "# convert a type of data into matix\n",
    "y = y.values\n",
    "y = [i.split(\"$\")[1] for i in y[:, 0]]\n",
    "y = np.array(y)\n",
    "y = y.astype('float')\n",
    "\n",
    "# divide the set into training and test set.\n",
    "from sklearn.model_selection import train_test_split\n",
    "X_train, X_test, y_train, y_test = train_test_split(X,y,test_size = 0.33, random_state=20)"
   ]
  },
  {
   "cell_type": "markdown",
   "metadata": {},
   "source": [
    "### Forward/ backward feature selection."
   ]
  },
  {
   "cell_type": "markdown",
   "metadata": {},
   "source": [
    "(a) (3pts) Calculate the MSE of the training set using linear regression.\n",
    "\n"
   ]
  },
  {
   "cell_type": "code",
   "execution_count": 16,
   "metadata": {},
   "outputs": [
    {
     "name": "stdout",
     "output_type": "stream",
     "text": [
      "MSE for part a) = 0.196018945792\n"
     ]
    }
   ],
   "source": [
    "lr = LinearRegression()\n",
    "lr.fit(X_train, y_train)\n",
    "yhat = lr.predict(X_test)\n",
    "print(\"MSE for part a) = \" + str(((y_test - yhat)**2).mean()))"
   ]
  },
  {
   "cell_type": "markdown",
   "metadata": {},
   "source": [
    "(b) (3pts) Find the three most significant factors using (1) forward feature selection and (2) backward feature selection. Please install and use MLXTEND package for above feature selections (https://anaconda.org/conda-forge/mlxtend). You may find the following link helpful: https://rasbt.github.io/mlxtend/user_guide/feature_selection/SequentialFeatureSelector/#example-5-sequential-feature-selection-for-regression. Please set the cross-validation parameter to 3 (cv=3).\n",
    "\n"
   ]
  },
  {
   "cell_type": "code",
   "execution_count": null,
   "metadata": {
    "collapsed": true
   },
   "outputs": [],
   "source": []
  },
  {
   "cell_type": "code",
   "execution_count": 20,
   "metadata": {
    "collapsed": true
   },
   "outputs": [],
   "source": [
    "#from mlxtend.feature_selection import SequentialFeatureSelector as SFS\n",
    "from sklearn.linear_model import LinearRegression, HuberRegressor"
   ]
  },
  {
   "cell_type": "markdown",
   "metadata": {},
   "source": [
    "(c) (2pt) Are the three most significant features found using forward and backward feature selection the same?"
   ]
  },
  {
   "cell_type": "markdown",
   "metadata": {},
   "source": [
    "### Huber Loss function and outlier\n",
    "\n",
    "In the second part, we will fit a linear model to the data, using a Huber loss function rather than the L2 norm usually used in OLS. sklearn has a nice API you can use: [http://scikit-learn.org/stable/modules/generated/sklearn.linear_model.HuberRegressor.html#sklearn-linear-model-huberregressor](http://scikit-learn.org/stable/modules/generated/sklearn.linear_model.HuberRegressor.html#sklearn-linear-model-huberregressor). For this problem, we will consider only one feature: \"percent\\_change\\_price\"."
   ]
  },
  {
   "cell_type": "code",
   "execution_count": 17,
   "metadata": {
    "collapsed": true
   },
   "outputs": [],
   "source": [
    "import pandas as pd\n",
    "import numpy as np\n",
    "from sklearn import linear_model\n",
    "from sklearn.metrics import mean_squared_error\n",
    "\n",
    "df = pd.read_csv('dow_jones_index.data')\n",
    "stock = df[[\"percent_change_price\", \"next_weeks_open\"]]\n",
    "stock = stock.dropna()\n",
    "stock = stock.values[1:]\n",
    "stock[:, 1] = [i.split(\"$\")[1] for i in stock[:, 1]]\n",
    "stock = stock.astype('float')\n",
    "stock[:, 0] = (stock[:, 0] - np.mean(stock[:, 0], axis=0))/np.std(stock[:, 0], axis=0)\n",
    "\n",
    "X = stock[:,:1]\n",
    "y = stock[:, 1]\n",
    "\n",
    "X_train = X[:400,]\n",
    "y_train = y[:400]\n",
    "\n",
    "X_test = X[400:,]\n",
    "y_test = y[400:,]"
   ]
  },
  {
   "cell_type": "markdown",
   "metadata": {},
   "source": [
    "(d) (2pts) Calculate the MSE using linear regression (linear_model.LinearRegression) using this single feature. Please do not use any regularization coefficient (set $\\lambda=0$).\n"
   ]
  },
  {
   "cell_type": "markdown",
   "metadata": {},
   "source": [
    "# 2.d) "
   ]
  },
  {
   "cell_type": "code",
   "execution_count": 18,
   "metadata": {},
   "outputs": [
    {
     "name": "stdout",
     "output_type": "stream",
     "text": [
      "MSE = 1192.17336874\n"
     ]
    }
   ],
   "source": [
    "lr = LinearRegression()\n",
    "lr.fit(X_train, y_train)\n",
    "yhat = lr.predict(X_test)\n",
    "print(\"MSE = \" + str(((yhat-y_test)**2).mean()))"
   ]
  },
  {
   "cell_type": "markdown",
   "metadata": {},
   "source": [
    "\n",
    "(e) (2pts) Calculate the MSE using Huber regression (linear_model.HuberRegressor) and compare with the result obtained in (d).\n",
    "\n",
    "Now we purposefully insert an outlier into the training set. Please note that this is simply for academic purpose.\n"
   ]
  },
  {
   "cell_type": "markdown",
   "metadata": {},
   "source": [
    "# 2.e)"
   ]
  },
  {
   "cell_type": "code",
   "execution_count": 22,
   "metadata": {},
   "outputs": [
    {
     "name": "stdout",
     "output_type": "stream",
     "text": [
      "Huber Loss = 1235.96980953\n"
     ]
    }
   ],
   "source": [
    "hr = HuberRegressor()\n",
    "hr.fit(X_train, y_train)\n",
    "yhat = hr.predict(X_test)\n",
    "print(\"Huber Loss = \"+ str(((yhat-y_test)**2).mean()))"
   ]
  },
  {
   "cell_type": "code",
   "execution_count": 26,
   "metadata": {
    "collapsed": true
   },
   "outputs": [],
   "source": [
    "y_train_outliers = np.copy(y_train)\n",
    "y_train_outliers[0] = 10000.0"
   ]
  },
  {
   "cell_type": "markdown",
   "metadata": {},
   "source": [
    "(f) (3pts) Please repeat (d) and (e) with above y_train_outliers, rather than y_train.\n"
   ]
  },
  {
   "cell_type": "markdown",
   "metadata": {},
   "source": [
    "# 2.f) Answer"
   ]
  },
  {
   "cell_type": "code",
   "execution_count": 30,
   "metadata": {},
   "outputs": [
    {
     "name": "stdout",
     "output_type": "stream",
     "text": [
      "MSE with outliers = 3570.05063993\n"
     ]
    }
   ],
   "source": [
    "#part d with outliers\n",
    "lr = LinearRegression()\n",
    "lr.fit(X_train, y_train_outliers)\n",
    "yhat = lr.predict(X_test)\n",
    "print(\"MSE with outliers = \" + str(((yhat-y_test)**2).mean()))"
   ]
  },
  {
   "cell_type": "code",
   "execution_count": 29,
   "metadata": {},
   "outputs": [
    {
     "name": "stdout",
     "output_type": "stream",
     "text": [
      "Huber Loss with outliers = 1232.54690548\n"
     ]
    }
   ],
   "source": [
    "#part e with outliers\n",
    "hr = HuberRegressor()\n",
    "hr.fit(X_train, y_train_outliers)\n",
    "yhat = hr.predict(X_test)\n",
    "print(\"Huber Loss with outliers = \"+ str(((yhat-y_test)**2).mean()))"
   ]
  },
  {
   "cell_type": "markdown",
   "metadata": {},
   "source": [
    "\n",
    "(g) (5pts) Which one shows better MSE with an outliers in this exmaple, between Linear regression versus Huber regression? Please describe the reason.  \n",
    "\n",
    "## Answer"
   ]
  },
  {
   "cell_type": "markdown",
   "metadata": {},
   "source": [
    "# 2.g) Answer\n",
    "\n",
    "The Huber loss function responds better to outlier data points. This is because the Huber loss function appropriately weights outlier points so that they are taken into account while not completely dominating the error function. \n"
   ]
  },
  {
   "cell_type": "markdown",
   "metadata": {},
   "source": [
    "# Question 3. Sampling (6pts)\n",
    "\n",
    "A recent survey estimated that $30\\%$ of all Europeans aged 20 to 22 have driven under the influence of drugs or alcohol, based on a simple \"Yes or No\" question. A similar survey is being planned for Americans. The survey designers want the  $90\\%$ confidence interval to have a margin of error of at most $\\pm0.09$.\n",
    "\n",
    "(a) (2pts) Find the necessary sample size needed to conduct this survey assuming that the expected percentage of \"yes\" answers will be very close to that obtained from the European survey?\n",
    "\n",
    "(b) (2pts) Suppose the tolerance level was kept the same but the confidence level needs to increase to $95\\%$. What is the required sample size for this new specification?\n",
    "\n",
    "(c) (2pts) If one does not know where the true \"$p$\" may lie, one can conservatively conduct a survey assuming the worst case (in terms of required minimum sample size)  scenario of  $p = 0.5$. Redo part (b) for this \"worst case\" scenario.\n",
    "\n",
    "## Answer"
   ]
  },
  {
   "cell_type": "markdown",
   "metadata": {},
   "source": [
    "# 3.a) \n",
    "We know that the minimum sample size, n, needed to conduct this survey is: $$n=p(1-p)(z/c)^2$$ \n",
    "\n",
    "where Z is the confidence, and c is the margin or error\n",
    "$$ = (0.3)(1-0.3) \\left( \\frac{1.64}{0.09}\\right)^2 = 69.7303703704 \\rightarrow 70\\ people$$"
   ]
  },
  {
   "cell_type": "markdown",
   "metadata": {},
   "source": [
    "# 3.b) \n",
    "Using the above work, we may change z=1.96, which is representative of the x-values in a normal distribution which enclose 95% of the distribution.\n",
    "\n",
    "$$ n=(.3)(1-.3)(1.96/.09)^2 $$\n",
    "\n",
    "We find the minimum number of samples to be:\n",
    "\n",
    "$$ n=99.6 \\rightarrow 100\\ people $$"
   ]
  },
  {
   "cell_type": "markdown",
   "metadata": {},
   "source": [
    "# 3.c) \n",
    "Changing p from .3 to .5 and solving for n yields: \n",
    "\n",
    "$$ n=(.5)(1-.5)(1.96/.09)^2 $$\n",
    "\n",
    "We find the minimum number of samples to be:\n",
    "\n",
    "$$ n=118.57 \\rightarrow 119\\ people$$"
   ]
  },
  {
   "cell_type": "markdown",
   "metadata": {},
   "source": [
    "# Question 4. Principal Component Analysis (11pts)\n",
    "\n",
    "Use the following code to read in data of US Imports."
   ]
  },
  {
   "cell_type": "code",
   "execution_count": 182,
   "metadata": {},
   "outputs": [
    {
     "data": {
      "text/html": [
       "<div>\n",
       "<style>\n",
       "    .dataframe thead tr:only-child th {\n",
       "        text-align: right;\n",
       "    }\n",
       "\n",
       "    .dataframe thead th {\n",
       "        text-align: left;\n",
       "    }\n",
       "\n",
       "    .dataframe tbody tr th {\n",
       "        vertical-align: top;\n",
       "    }\n",
       "</style>\n",
       "<table border=\"1\" class=\"dataframe\">\n",
       "  <thead>\n",
       "    <tr style=\"text-align: right;\">\n",
       "      <th></th>\n",
       "      <th>Agricultural machinery, equipment</th>\n",
       "      <th>Alcoholic beverages, excluding wine</th>\n",
       "      <th>Apparel, household goods - cotton</th>\n",
       "      <th>Apparel, household goods - wool</th>\n",
       "      <th>Apparel, textiles, nonwool or cotton</th>\n",
       "    </tr>\n",
       "    <tr>\n",
       "      <th>Country</th>\n",
       "      <th></th>\n",
       "      <th></th>\n",
       "      <th></th>\n",
       "      <th></th>\n",
       "      <th></th>\n",
       "    </tr>\n",
       "  </thead>\n",
       "  <tbody>\n",
       "    <tr>\n",
       "      <th>Afghanistan</th>\n",
       "      <td>3105.0</td>\n",
       "      <td>0.0</td>\n",
       "      <td>10739.0</td>\n",
       "      <td>7314.0</td>\n",
       "      <td>11942.0</td>\n",
       "    </tr>\n",
       "    <tr>\n",
       "      <th>Albania</th>\n",
       "      <td>0.0</td>\n",
       "      <td>34741.0</td>\n",
       "      <td>2752171.0</td>\n",
       "      <td>50838.0</td>\n",
       "      <td>1298224.0</td>\n",
       "    </tr>\n",
       "    <tr>\n",
       "      <th>Algeria</th>\n",
       "      <td>0.0</td>\n",
       "      <td>0.0</td>\n",
       "      <td>0.0</td>\n",
       "      <td>0.0</td>\n",
       "      <td>0.0</td>\n",
       "    </tr>\n",
       "    <tr>\n",
       "      <th>Andorra</th>\n",
       "      <td>0.0</td>\n",
       "      <td>0.0</td>\n",
       "      <td>351.0</td>\n",
       "      <td>0.0</td>\n",
       "      <td>0.0</td>\n",
       "    </tr>\n",
       "    <tr>\n",
       "      <th>Angola</th>\n",
       "      <td>0.0</td>\n",
       "      <td>24505.0</td>\n",
       "      <td>0.0</td>\n",
       "      <td>0.0</td>\n",
       "      <td>0.0</td>\n",
       "    </tr>\n",
       "  </tbody>\n",
       "</table>\n",
       "</div>"
      ],
      "text/plain": [
       "             Agricultural machinery, equipment  \\\n",
       "Country                                          \n",
       "Afghanistan                             3105.0   \n",
       "Albania                                    0.0   \n",
       "Algeria                                    0.0   \n",
       "Andorra                                    0.0   \n",
       "Angola                                     0.0   \n",
       "\n",
       "             Alcoholic beverages, excluding wine  \\\n",
       "Country                                            \n",
       "Afghanistan                                  0.0   \n",
       "Albania                                  34741.0   \n",
       "Algeria                                      0.0   \n",
       "Andorra                                      0.0   \n",
       "Angola                                   24505.0   \n",
       "\n",
       "             Apparel, household goods - cotton  \\\n",
       "Country                                          \n",
       "Afghanistan                            10739.0   \n",
       "Albania                              2752171.0   \n",
       "Algeria                                    0.0   \n",
       "Andorra                                  351.0   \n",
       "Angola                                     0.0   \n",
       "\n",
       "             Apparel, household goods - wool  \\\n",
       "Country                                        \n",
       "Afghanistan                           7314.0   \n",
       "Albania                              50838.0   \n",
       "Algeria                                  0.0   \n",
       "Andorra                                  0.0   \n",
       "Angola                                   0.0   \n",
       "\n",
       "             Apparel, textiles, nonwool or cotton  \n",
       "Country                                            \n",
       "Afghanistan                               11942.0  \n",
       "Albania                                 1298224.0  \n",
       "Algeria                                       0.0  \n",
       "Andorra                                       0.0  \n",
       "Angola                                        0.0  "
      ]
     },
     "execution_count": 182,
     "metadata": {},
     "output_type": "execute_result"
    }
   ],
   "source": [
    "import pandas as pd\n",
    "from sklearn.decomposition import PCA\n",
    "\n",
    "df = pd.read_csv('data_q4.csv', index_col=0)\n",
    "df.iloc[:5,:5]"
   ]
  },
  {
   "cell_type": "markdown",
   "metadata": {},
   "source": [
    "(a) (3pts) Find the top two principal components from this dataset, and make a scatter plot with the first component as the x-axis and the second as the y-axis. You may find the sklearn PCA package to be useful.\n"
   ]
  },
  {
   "cell_type": "markdown",
   "metadata": {},
   "source": [
    "# 4.a)"
   ]
  },
  {
   "cell_type": "code",
   "execution_count": 183,
   "metadata": {},
   "outputs": [
    {
     "data": {
      "text/plain": [
       "PCA(copy=True, iterated_power='auto', n_components=2, random_state=None,\n",
       "  svd_solver='auto', tol=0.0, whiten=False)"
      ]
     },
     "execution_count": 183,
     "metadata": {},
     "output_type": "execute_result"
    }
   ],
   "source": [
    "pca = PCA(n_components = 2)\n",
    "pca.fit(df)"
   ]
  },
  {
   "cell_type": "code",
   "execution_count": 185,
   "metadata": {},
   "outputs": [
    {
     "data": {
      "text/plain": [
       "'\\nThis will print out the top two components. \\nBut it takes up a lot of space in the notebook so I commented it out.\\nFeel free to uncomment.\\n'"
      ]
     },
     "execution_count": 185,
     "metadata": {},
     "output_type": "execute_result"
    }
   ],
   "source": [
    "\"\"\"\n",
    "This will print out the top two components. \n",
    "But it takes up a lot of space in the notebook so I commented it out.\n",
    "Feel free to uncomment.\n",
    "\"\"\"\n",
    "#pca.components_"
   ]
  },
  {
   "cell_type": "code",
   "execution_count": 157,
   "metadata": {
    "collapsed": true
   },
   "outputs": [],
   "source": [
    "reduced = pca.transform(df)\n",
    "reduced = pd.DataFrame(reduced, columns = [\"X\", \"Y\"])\n",
    "reduced = reduced.set_index(df.index)"
   ]
  },
  {
   "cell_type": "code",
   "execution_count": 158,
   "metadata": {},
   "outputs": [
    {
     "data": {
      "text/plain": [
       "<matplotlib.text.Text at 0x1148aa650>"
      ]
     },
     "execution_count": 158,
     "metadata": {},
     "output_type": "execute_result"
    },
    {
     "data": {
      "image/png": "[encoded data removed]",
      "text/plain": [
       "<matplotlib.figure.Figure at 0x1151c3690>"
      ]
     },
     "metadata": {},
     "output_type": "display_data"
    }
   ],
   "source": [
    "plt.scatter(reduced[\"X\"], reduced[\"Y\"])\n",
    "plt.title(\"Input reduced to Eigenspace \\nof top two PCA Components\")\n",
    "plt.xlabel(\"X\")\n",
    "plt.ylabel(\"Y\")"
   ]
  },
  {
   "cell_type": "markdown",
   "metadata": {},
   "source": [
    "(b) (2pts) Find the names of the six countries with the highest first component (these should be clear outliers)."
   ]
  },
  {
   "cell_type": "markdown",
   "metadata": {},
   "source": [
    "# 4.b)"
   ]
  },
  {
   "cell_type": "code",
   "execution_count": 159,
   "metadata": {},
   "outputs": [
    {
     "name": "stdout",
     "output_type": "stream",
     "text": [
      "Outliers are the following countries:\n"
     ]
    },
    {
     "data": {
      "text/html": [
       "<div>\n",
       "<style>\n",
       "    .dataframe thead tr:only-child th {\n",
       "        text-align: right;\n",
       "    }\n",
       "\n",
       "    .dataframe thead th {\n",
       "        text-align: left;\n",
       "    }\n",
       "\n",
       "    .dataframe tbody tr th {\n",
       "        vertical-align: top;\n",
       "    }\n",
       "</style>\n",
       "<table border=\"1\" class=\"dataframe\">\n",
       "  <thead>\n",
       "    <tr style=\"text-align: right;\">\n",
       "      <th></th>\n",
       "      <th>X</th>\n",
       "      <th>Y</th>\n",
       "    </tr>\n",
       "    <tr>\n",
       "      <th>Country</th>\n",
       "      <th></th>\n",
       "      <th></th>\n",
       "    </tr>\n",
       "  </thead>\n",
       "  <tbody>\n",
       "    <tr>\n",
       "      <th>Canada</th>\n",
       "      <td>2.923415e+10</td>\n",
       "      <td>5.640749e+10</td>\n",
       "    </tr>\n",
       "    <tr>\n",
       "      <th>China</th>\n",
       "      <td>9.536235e+10</td>\n",
       "      <td>-4.322857e+10</td>\n",
       "    </tr>\n",
       "    <tr>\n",
       "      <th>Germany</th>\n",
       "      <td>1.371234e+10</td>\n",
       "      <td>2.087806e+10</td>\n",
       "    </tr>\n",
       "    <tr>\n",
       "      <th>Japan</th>\n",
       "      <td>1.740350e+10</td>\n",
       "      <td>2.578182e+10</td>\n",
       "    </tr>\n",
       "    <tr>\n",
       "      <th>Korea, South</th>\n",
       "      <td>1.172214e+10</td>\n",
       "      <td>1.003584e+10</td>\n",
       "    </tr>\n",
       "    <tr>\n",
       "      <th>Mexico</th>\n",
       "      <td>4.695118e+10</td>\n",
       "      <td>3.108013e+10</td>\n",
       "    </tr>\n",
       "  </tbody>\n",
       "</table>\n",
       "</div>"
      ],
      "text/plain": [
       "                         X             Y\n",
       "Country                                 \n",
       "Canada        2.923415e+10  5.640749e+10\n",
       "China         9.536235e+10 -4.322857e+10\n",
       "Germany       1.371234e+10  2.087806e+10\n",
       "Japan         1.740350e+10  2.578182e+10\n",
       "Korea, South  1.172214e+10  1.003584e+10\n",
       "Mexico        4.695118e+10  3.108013e+10"
      ]
     },
     "execution_count": 159,
     "metadata": {},
     "output_type": "execute_result"
    }
   ],
   "source": [
    "outliers = reduced.loc[reduced[\"X\"] > 1e10]\n",
    "print(\"Outliers are the following countries:\")\n",
    "outliers"
   ]
  },
  {
   "cell_type": "markdown",
   "metadata": {},
   "source": [
    "\n",
    "(c) (3pts) Create i) a scree plot depicting the proportion of variance and ii) a cumulative proportion of variance explained by the principal components of the data (X matrix).  Refer to Figure 10.4 of JW for an example.  If you are using sklearn's PCA implementation, you may use the output attribute *explained variance ratio*.\n"
   ]
  },
  {
   "cell_type": "markdown",
   "metadata": {},
   "source": [
    "# 4.c)"
   ]
  },
  {
   "cell_type": "code",
   "execution_count": 160,
   "metadata": {},
   "outputs": [
    {
     "data": {
      "text/plain": [
       "(231, 142)"
      ]
     },
     "execution_count": 160,
     "metadata": {},
     "output_type": "execute_result"
    }
   ],
   "source": [
    "df.shape"
   ]
  },
  {
   "cell_type": "code",
   "execution_count": 161,
   "metadata": {},
   "outputs": [
    {
     "data": {
      "text/plain": [
       "<matplotlib.text.Text at 0x1145efe10>"
      ]
     },
     "execution_count": 161,
     "metadata": {},
     "output_type": "execute_result"
    },
    {
     "data": {
      "image/png": "[encoded data removed]",
      "text/plain": [
       "<matplotlib.figure.Figure at 0x114880e90>"
      ]
     },
     "metadata": {},
     "output_type": "display_data"
    }
   ],
   "source": [
    "pca = PCA(n_components=df.shape[1])\n",
    "pca.fit(df)\n",
    "plt.scatter(range(0,df.shape[1]),pca.explained_variance_ratio_, label = \"Proportion of Variance\")\n",
    "plt.title(\"Scree plot for feature 1 and feature 2\")"
   ]
  },
  {
   "cell_type": "code",
   "execution_count": 162,
   "metadata": {},
   "outputs": [
    {
     "data": {
      "text/plain": [
       "<matplotlib.text.Text at 0x114c38090>"
      ]
     },
     "execution_count": 162,
     "metadata": {},
     "output_type": "execute_result"
    },
    {
     "data": {
      "image/png": "[encoded data removed]",
      "text/plain": [
       "<matplotlib.figure.Figure at 0x11488d750>"
      ]
     },
     "metadata": {},
     "output_type": "display_data"
    }
   ],
   "source": [
    "variances = pca.explained_variance_ratio_\n",
    "cum_var = [variances[i] + variances[:i].sum() for i in range(variances.shape[0])]\n",
    "plt.scatter(range(len(cum_var)),cum_var)\n",
    "plt.title(\"Cumulative proportion of variance plot \")"
   ]
  },
  {
   "cell_type": "markdown",
   "metadata": {},
   "source": [
    "(d) (3pts) How many principal components are required to explain cumulative variance of 30%, 60%, and 90%, respectively?"
   ]
  },
  {
   "cell_type": "markdown",
   "metadata": {
    "collapsed": true
   },
   "source": [
    "# 4.d)"
   ]
  },
  {
   "cell_type": "code",
   "execution_count": 177,
   "metadata": {},
   "outputs": [
    {
     "name": "stdout",
     "output_type": "stream",
     "text": [
      "The first component explains ~30% of the variance.\n",
      "(30%)\n",
      "          0\n",
      "0  0.499601\n",
      "1  0.783249\n",
      "2  0.862489\n",
      "3  0.925649\n",
      "4  0.961357\n",
      "\n",
      "\n",
      "The first two components explain ~60% of the Data\n",
      "(78%)\n",
      "          0\n",
      "1  0.783249\n",
      "2  0.862489\n",
      "3  0.925649\n",
      "4  0.961357\n",
      "5  0.970244\n",
      "\n",
      "\n",
      "The first 4 components explain ~90% of the variance\n",
      "(92.5%)\n",
      "          0\n",
      "3  0.925649\n",
      "4  0.961357\n",
      "5  0.970244\n",
      "6  0.976076\n",
      "7  0.980895\n"
     ]
    }
   ],
   "source": [
    "cum_var = pd.DataFrame(cum_var)\n",
    "print(\"The first component explains ~30% of the variance.\\n(30%)\")\n",
    "print(cum_var.loc[cum_var[0] > 0.3].head())\n",
    "print(\"\\n\")\n",
    "print(\"The first two components explain ~60% of the Data\\n(78%)\")\n",
    "print(cum_var.loc[cum_var[0] > 0.6].head())\n",
    "print(\"\\n\")\n",
    "print(\"The first 4 components explain ~90% of the variance\\n(92.5%)\")\n",
    "print(cum_var.loc[cum_var[0] > 0.9].head())\n"
   ]
  },
  {
   "cell_type": "markdown",
   "metadata": {},
   "source": [
    "# Question 5. PCA (conceptual) (10pts)"
   ]
  },
  {
   "cell_type": "markdown",
   "metadata": {},
   "source": [
    "(a) (5pts) Give two reasons why we might want to use PCA.\n",
    "\n",
    "(b) (5pts) If we approach PCA using eigenvalue decomposition on the covariance matrix, explain what the eigenvectors and eigenvalues represent.\n",
    "\n",
    "## Answer"
   ]
  },
  {
   "cell_type": "markdown",
   "metadata": {
    "collapsed": true
   },
   "source": [
    "## 5.a)\n",
    "One might use PCA if you know a priori that the underlying structure of the data should exist in a small number of dimensions. PCA will project down to that subspace and cut out all of the 'noise' in extraneous dimensions. \n",
    "\n",
    "One might use PCA if you want to be able to plot high dimension data which may be mostly explainable in a small number of dimensions\n",
    "\n",
    "One might use PCA to reduce the number of features in your model. Perhaps you are using more advanced modeling techniques and you need to 'compress' your features into a smaller vector to reduce overall runtime for your datascience pipieline. \n",
    "\n"
   ]
  },
  {
   "cell_type": "markdown",
   "metadata": {},
   "source": [
    "# 5.b)\n",
    "The eigenvectors represent the directions in which the datset has high variance and the eigenvalues represent the degree of variance in the corresponding 1-D eigenspace. In essence, PCA is simply changing to the eigenbasis and optionally truncating the lower dimensions by projecting onto a smaller number of eigen vectors (the ones with most variance)"
   ]
  },
  {
   "cell_type": "code",
   "execution_count": null,
   "metadata": {
    "collapsed": true
   },
   "outputs": [],
   "source": []
  }
 ],
 "metadata": {
  "kernelspec": {
   "display_name": "Python 2",
   "language": "python",
   "name": "python2"
  },
  "language_info": {
   "codemirror_mode": {
    "name": "ipython",
    "version": 2
   },
   "file_extension": ".py",
   "mimetype": "text/x-python",
   "name": "python",
   "nbconvert_exporter": "python",
   "pygments_lexer": "ipython2",
   "version": "2.7.13"
  }
 },
 "nbformat": 4,
 "nbformat_minor": 1
}
