{
 "cells": [
  {
   "cell_type": "markdown",
   "metadata": {},
   "source": [
    "\n",
    "# <p style=\"text-align: center;\">EE 461P: Data Science Principles</p>\n",
    "# <p style=\"text-align: center;\">Assignment 4</p>\n",
    "## <p style=\"text-align: center;\">Total points: 65</p>\n",
    "## <p style=\"text-align: center;\">Due: Tuesday, November 13th, submitted via Canvas by 11:59 pm</p>\n",
    "\n",
    "Your homework should be written in a **Jupyter notebook**. You may work in groups of two if you wish. Only one student per team needs to submit the assignment on Canvas.  **Please include the name and UTEID for both students on all submitted files (including this notebook).**\n",
    "\n",
    "# Bryce Fuller (BGF295)\n",
    "# Caleb Johnson (CDJ2237)"
   ]
  },
  {
   "cell_type": "markdown",
   "metadata": {},
   "source": [
    "# Question 0 - Bayes Decision Theory (10pts)\n",
    "(From HW3)"
   ]
  },
  {
   "cell_type": "markdown",
   "metadata": {},
   "source": [
    "a. (2pts) Explain what you understand by class-conditional likelihood, class priors, and posterior probability of a class given an input, and the relationship between them. Please define all symbols and equations used explicitly.\n",
    "\n",
    "b. (5pts) Suppose you want to learn a binary classifier to predict whether or not a customer will buy a TV. The class label is 0 if the patient does not buy and 1 if he/she does. For each customer, you are given two features, x1 is the per hour salary and x2 is the age. Assume that the class conditional distribution $p(x_1,x_2|C)$ is Gaussian. The mean salary and age of the people who do buy a TV is 40 and 27 respectively and that of those who don't is 16 and 20. Assume that both classes of customers have the same covariance given by the Identity matrix. Further, your sales data suggests that only 1 in 5 people actually bought a TV in the last few years. Mathematically derive the (optimal) Bayes decision boundary for this problem.\n",
    "\n",
    "c. (3pts) Write a script to sample 100 customers from each class (C = 0; 1) under the assumed distribution and the estimated parameters and plot their features. Plot the decision boundary on the same plot."
   ]
  },
  {
   "cell_type": "markdown",
   "metadata": {},
   "source": [
    "# a. \n",
    "(2pts) Explain what you understand by class-conditional likelihood, class priors, and posterior probability of a class given an input, and the relationship between them. Please define all symbols and equations used explicitly."
   ]
  },
  {
   "cell_type": "markdown",
   "metadata": {},
   "source": [
    "## 0.a Answer\n",
    "#### $\\bullet$ Class-conditional likelihood:\n",
    "$P[C \\vert I ]$ is the probability that given an input I, it's class will be C\n",
    "\n",
    "This is essentially the likelihood of an input being classified C.\n",
    "\n",
    "#### $\\bullet$ Posterior probability of a class given input:\n",
    "$P[I \\vert C ]$ is the probability that you observe an input I given that the input is in class C\n",
    "\n",
    "This is simply the likelihood of seeing an input with class C.\n",
    "In other words, the ratio of inputs which are class C.\n",
    "\n",
    "#### $\\bullet$ Relationship between previous two:\n",
    "\n",
    "\n",
    "In the monty hall game, the probability that any of the doors will have a car behind it is 1/3. This is an example of calculating the class-conditional probability of each door. In this example, each door is a possible input, (I do realize the analogy becomes fuzzy as the game only allows for selection of one door, I believe the analogy is still clear)\n",
    "\n",
    "In the monty hall game, the correct move (which is to switch doors after one has been opened) is due to the posterior probability that the remaining door now has a car (which is 50%). The player has new information which has been taken into account and her probability has been updated.\n",
    "\n",
    "In both cases, we can consider the contestant's individual consideration of a door, and we see that one time it's likelihood of having a car is 1/3, and another time, after the contestant has seen another datapoint be classified, the probability is updated and when considering the next door, it's probability of having a car is 1/2."
   ]
  },
  {
   "cell_type": "markdown",
   "metadata": {},
   "source": [
    "# b. \n",
    "(5pts) Suppose you want to learn a binary classifier to predict whether or not a customer will buy a TV. The class label is 0 if the patient does not buy and 1 if he/she does. For each customer, you are given two features, x1 is the per hour salary and x2 is the age. Assume that the class conditional distribution $p(x_1,x_2|C)$ is Gaussian. The mean salary and age of the people who do buy a TV is 40 and 27 respectively and that of those who don't is 16 and 20. Assume that both classes of customers have the same covariance given by the Identity matrix. Further, your sales data suggests that only 1 in 5 people actually bought a TV in the last few years. Mathematically derive the (optimal) Bayes decision boundary for this problem."
   ]
  },
  {
   "cell_type": "markdown",
   "metadata": {},
   "source": [
    "# 0.b Answer\n",
    "Let $X_1$ correspond to income\n",
    "Let $X_2$ correspond to age\n",
    "\n",
    "\n",
    "p( $X_1,X_2 \\vert\\ C = 1$ ) = $\\mathcal{N} \\left( \\mu_{(X_1 , X_2)} = \\mu^{(1)}   = (40, 27), Cov = I^{(2x2)} \\right)$ = $\\mathcal{N}_{1}$\n",
    "\n",
    "p( $X_1,X_2 \\vert\\ C = 0$ ) = $\\mathcal{N} \\left( \\mu_{(X_1 , X_2)} = \\mu^{(2)}  = (16, 20), Cov = I^{(2x2)} \\right)$ = $\\mathcal{N}_{2}$\n",
    "\n",
    "We want the equation for the boundary where $\\mathcal{N}_{1}$ = $\\mathcal{N}_{2}$ $\\rightarrow$ $\\left( \\mathcal{N}_{1} - \\mathcal{N}_{2} \\right)$ = 0\n",
    "\n",
    "$\\rightarrow$\n",
    "$$ e^{ \\frac{-1}{2}\\left( \\left( X_1 - \\mu^{(1)}_{X_1} \\right)^2 + \\left( X_2 - \\mu^{(1)}_{X_2} \\right)^2 \\right)} = e^{ \\frac{-1}{2}\\left(  \\left( X_1 - \\mu^{(2)}_{X_1} \\right)^2 + \\left( X_2 - \\mu^{(2)}_{X_2} \\right)^2 \\right)} $$\n",
    "\n",
    "$\\rightarrow$\n",
    "$$ \n",
    "\\left(  X_1 - \\mu^{(1)}_{X_1} \\right)^2 + \\left( X_2 - \\mu^{(1)}_{X_2} \\right)^2 = \\left(   X_1 - \\mu^{(2)}_{X_1} \\right)^2 + \\left( X_2 - \\mu^{(2)}_{X_2} \\right)^2 \n",
    "$$\n",
    "\n",
    "$\\rightarrow$\n",
    "$$ \n",
    "\\left( X_{1}^{2} - 2\\mu^{(1)}_{X_1}X_{1} + (\\mu^{(1)}_{X_1})^2 \\right) + \\left( X_{2}^{2} - 2\\mu^{(1)}_{X_2}X_{2} + (\\mu^{(1)}_{X_2})^2 \\right) = \\left( X_{1}^{2} - 2\\mu^{(2)}_{X_1}X_{1} + (\\mu^{(2)}_{X_1})^2 \\right) + \\left( X_{2}^{2} - 2\\mu^{(2)}_{X_2}X_{2} + (\\mu^{(2)}_{X_2})^2 \\right)\n",
    "$$\n",
    "\n",
    "$\\rightarrow$\n",
    "$$ \n",
    "\\left( (X_{1}^{2} - X_{1}^{2}) - 2(\\mu^{(1)}_{X_1} - \\mu^{(2)}_{X_1})X_{1} + (\\mu^{(1)}_{X_1})^2 - (\\mu^{(2)}_{X_1})^2\\right) + \\left( (X_{2}^{2} - X_{2}^{2}) - 2(\\mu^{(1)}_{X_2} - \\mu^{(2)}_{X_2}) + (\\mu^{(1)}_{X_2})^2 - (\\mu^{(2)}_{X_2})^2\\right) = 0\n",
    "$$\n",
    "\n",
    "$\\rightarrow$\n",
    "$$ \n",
    "\\left(- 2(\\mu^{(1)}_{X_1} - \\mu^{(2)}_{X_1})X_{1} + (\\mu^{(1)}_{X_1})^2 - (\\mu^{(2)}_{X_1})^2\\right) + \\left(  - 2(\\mu^{(1)}_{X_2} - \\mu^{(2)}_{X_2})X_{2} + (\\mu^{(1)}_{X_2})^2 - (\\mu^{(2)}_{X_2})^2\\right) = 0\n",
    "$$\n",
    "\n",
    "Let,\n",
    "\n",
    "$- 2(\\mu^{(1)}_{X_1} - \\mu^{(2)}_{X_1}) = -2 (40 - 16 ) = -48$\n",
    "\n",
    "$- 2(\\mu^{(1)}_{X_2} - \\mu^{(2)}_{X_2}) = -2 (27 - 20 ) = -14$\n",
    "\n",
    "$(\\mu^{(1)}_{X_1})^2 - (\\mu^{(2)}_{X_1})^2 + (\\mu^{(1)}_{X_2})^2 - (\\mu^{(2)}_{X_2})^2  = 40^2 - 16^2 + 27^2 - 20^2 = 1,673 $\n",
    "\n",
    "Then,\n",
    "\n",
    "$$  -48 X_1 - 14 X_2 + 1673 = 0  $$\n",
    "\n",
    "$$  48 X_1 + 14 X_2 = 1673  $$\n",
    "\n",
    "$$  X_2 = \\frac{-48}{16} X_1 + \\frac{1673}{16}  $$\n",
    "\n",
    "In other words, for a sample, with features $X_1$ and $X_2$\n",
    "\n",
    "If $48X_1 + 14X_2 > 1673$ then, it is most likely in class C = 1\n",
    "\n",
    "If $48X_1 + 14X_2 < 1673$ then, it is most likely in class C = 0 \n",
    "\n",
    "If $48X_1 + 14X_2 = 1673$ then, it is a 50/50 chance of either case "
   ]
  },
  {
   "cell_type": "markdown",
   "metadata": {},
   "source": [
    "# c. \n",
    "(3pts) Write a script to sample 100 customers from each class (C = 0; 1) under the assumed distribution and the estimated parameters and plot their features. Plot the decision boundary you obtained in the part (b) on the same plot."
   ]
  },
  {
   "cell_type": "markdown",
   "metadata": {},
   "source": [
    "# 0.c Answer"
   ]
  },
  {
   "cell_type": "code",
   "execution_count": 24,
   "metadata": {
    "collapsed": true
   },
   "outputs": [],
   "source": [
    "import numpy as np\n",
    "import matplotlib.pyplot as plt\n",
    "\n",
    "x1, y1 = np.random.multivariate_normal([40,27], [[1,0],[0,1]], 10000).T\n",
    "x2, y2 = np.random.multivariate_normal([16,20], [[1,0],[0,1]], 10000).T\n",
    "xl = np.linspace(24,30,1000)\n",
    "yl = [(-48./16.)*a + (1673./16.) for a in xl]"
   ]
  },
  {
   "cell_type": "code",
   "execution_count": 25,
   "metadata": {},
   "outputs": [
    {
     "data": {
      "text/plain": [
       "<matplotlib.text.Text at 0x116b1f1d0>"
      ]
     },
     "execution_count": 25,
     "metadata": {},
     "output_type": "execute_result"
    },
    {
     "data": {
      "image/png": "[encoded data removed]",
      "text/plain": [
       "<matplotlib.figure.Figure at 0x116a6e2d0>"
      ]
     },
     "metadata": {},
     "output_type": "display_data"
    }
   ],
   "source": [
    "plt.scatter(x1,y1, color=\"Red\", label=\"C = 1\", s=1)\n",
    "plt.scatter(x2,y2, color = \"Gold\", label=\"C = 0\",s=1)\n",
    "plt.legend()\n",
    "plt.plot(xl,yl)\n",
    "plt.title(\"Optimal Decision Boundary between Classes 0,1\")"
   ]
  },
  {
   "cell_type": "markdown",
   "metadata": {},
   "source": [
    "## Answer"
   ]
  },
  {
   "cell_type": "markdown",
   "metadata": {},
   "source": [
    "# Question 1 - Reject Option (20 Points)\n"
   ]
  },
  {
   "cell_type": "markdown",
   "metadata": {},
   "source": [
    "For the Loss matrix given below, compute  the range of P(C1|x) where (i) It is best to call \"Class 1\", and (ii) where it is best to take the reject option."
   ]
  },
  {
   "cell_type": "code",
   "execution_count": 26,
   "metadata": {},
   "outputs": [
    {
     "data": {
      "text/html": [
       "<div>\n",
       "<style>\n",
       "    .dataframe thead tr:only-child th {\n",
       "        text-align: right;\n",
       "    }\n",
       "\n",
       "    .dataframe thead th {\n",
       "        text-align: left;\n",
       "    }\n",
       "\n",
       "    .dataframe tbody tr th {\n",
       "        vertical-align: top;\n",
       "    }\n",
       "</style>\n",
       "<table border=\"1\" class=\"dataframe\">\n",
       "  <thead>\n",
       "    <tr style=\"text-align: right;\">\n",
       "      <th></th>\n",
       "      <th>Decision C1</th>\n",
       "      <th>Decision C2</th>\n",
       "      <th>Decision Reject</th>\n",
       "    </tr>\n",
       "    <tr>\n",
       "      <th>Truth</th>\n",
       "      <th></th>\n",
       "      <th></th>\n",
       "      <th></th>\n",
       "    </tr>\n",
       "  </thead>\n",
       "  <tbody>\n",
       "    <tr>\n",
       "      <th>C1</th>\n",
       "      <td>0</td>\n",
       "      <td>6</td>\n",
       "      <td>2</td>\n",
       "    </tr>\n",
       "    <tr>\n",
       "      <th>C2</th>\n",
       "      <td>4</td>\n",
       "      <td>0</td>\n",
       "      <td>2</td>\n",
       "    </tr>\n",
       "  </tbody>\n",
       "</table>\n",
       "</div>"
      ],
      "text/plain": [
       "       Decision C1  Decision C2  Decision Reject\n",
       "Truth                                           \n",
       "C1               0            6                2\n",
       "C2               4            0                2"
      ]
     },
     "execution_count": 26,
     "metadata": {},
     "output_type": "execute_result"
    }
   ],
   "source": [
    "import pandas as pd\n",
    "data = [[\"C1\", 0, 6, 2], [\"C2\", 4, 0, 2]]\n",
    "df = pd.DataFrame(data, columns=[\"Truth\", \"Decision C1\", \"Decision C2\", \"Decision Reject\"])\n",
    "df.set_index(\"Truth\")"
   ]
  },
  {
   "cell_type": "markdown",
   "metadata": {},
   "source": [
    "## Answer"
   ]
  },
  {
   "cell_type": "markdown",
   "metadata": {},
   "source": [
    "Our expected loss of each classification is given below:\n",
    "$$E_{Loss}[C1] = 4P(C_{2} \\vert\\ x)$$\n",
    "$$E_{Loss}[C2] = 6P(C_{1} \\vert\\ x)$$\n",
    "$$E_{Loss}[R] = 2P(C_{1} \\vert\\ x) + 2P(C_{2} \\vert\\ x)$$\n",
    "\n",
    "It is best to call Class 1 when both of these statements are true:\n",
    "$$E_{Loss}[C1] < E_{Loss}[C2]$$\n",
    "$$E_{Loss}[C1] < E_{Loss}[R]$$\n",
    "\n",
    "Or\n",
    "\n",
    "$$4P(C_{2} \\vert\\ x) < 6P(C_{1} \\vert\\ x)$$\n",
    "$$4P(C_{2} \\vert\\ x) < 2P(C_{1} \\vert\\ x) + 2P(C_{2} \\vert\\ x)$$\n",
    "\n",
    "# Solving these two equations yields the range in which it is best to call C1:\n",
    "$$P(C_{1} \\vert\\ x) > P(C_{2} \\vert\\ x)$$\n",
    "\n",
    "\n",
    "Similarly, it is best to 'reject' when both of these statements are true:\n",
    "$$E_{Loss}[R] < E_{Loss}[C1]$$\n",
    "$$E_{Loss}[R] < E_{Loss}[C2]$$\n",
    "\n",
    "Or \n",
    "\n",
    "$$2P(C_{1} \\vert\\ x) + 2P(C_{2} \\vert\\ x) < 4P(C_{2} \\vert\\ x)$$\n",
    "$$2P(C_{1} \\vert\\ x) + 2P(C_{2} \\vert\\ x) < 6P(C_{1} \\vert\\ x)$$\n",
    "\n",
    "# Solving these two equations yields the range in which it is best to reject:\n",
    "\n",
    "$$\\frac{1}{2}P(C_{2} \\vert\\ x) < P(C_{1} \\vert\\ x) < P(C_{2} \\vert\\ x)$$\n",
    "\n",
    "\n",
    "\n",
    "\n"
   ]
  },
  {
   "cell_type": "markdown",
   "metadata": {},
   "source": [
    "# Question 2 - Concepts (15 pts)"
   ]
  },
  {
   "cell_type": "markdown",
   "metadata": {},
   "source": [
    "1. (3+3+4 pts) Briefly describe what you understand by a Lift curve/chart? How is it similar to an ROC curve and in what way is it different? Provide an example where you might prefer using Lift (for a certain decile) over AUROC (AUC) as a point measure of the performance of your classifier. (Point measure means evaluation using a single numeric value.)\n",
    "\n",
    "\n",
    "2. (5 pts) Explain what it means to calibrate a classifier. Give an example of an application where having a well calibrated model is important, and it is not enough to just estimate what the most likely class label is for a given data point."
   ]
  },
  {
   "cell_type": "markdown",
   "metadata": {},
   "source": [
    "## Answer"
   ]
  },
  {
   "cell_type": "markdown",
   "metadata": {},
   "source": [
    "# 2.1)"
   ]
  },
  {
   "cell_type": "markdown",
   "metadata": {},
   "source": [
    "A lift/curve chart can be used when it is insightful to visualize how much of a certain class can be 'captured' by a given model by selecting a fraction of the overall distribution which is most likely to belong to that class. For example, if 100 out of 1000 people will respond to a magazine ad, and we are able to get 80 people to respond by mailing 100 ads only to the people most likely to respond (according to model), we would say our model has a lift of 8 in the first decile. In other words, by mailing to only 10% of the people, we are able to capture 80% of the class of interest.\n",
    "\n",
    "A lift curve is similar to a ROC curve in that it is a probabilistic explanation of a classification model's performance. Area under ROC explains the probability that your model assigns a higher score to a random positive sample than a random negative sample. \n",
    "\n",
    "$$A_{ROC} = P(Random Pos Sample > Random Neg Sample)$$\n",
    "\n",
    "Area under Lift curve tells us how well a model distinguishes positive samples from all other samples. The actual area under the curve can be described probabilistically as:\n",
    "\n",
    "$$A_{Lift} = (Total Pos Samples)*P(Random Pos Sample > Random Sample)$$\n",
    "\n",
    "An example when $A_{Lift}$ may be preferred over $A_{ROC}$ as an evaluation metric would be a case when there is no cost for 'rejecting', some cost for false positives, and some gain from true positives. In our magazine ad example, $A_{Lift}$ would be preferred, as we are ultimately interested in maximizing the number of true positives while minimizing total number of 'Guesses', where $$Guesses = (TP + FP)$$"
   ]
  },
  {
   "cell_type": "markdown",
   "metadata": {},
   "source": [
    "# 2.2)"
   ]
  },
  {
   "cell_type": "markdown",
   "metadata": {},
   "source": [
    "A calibrated classification model is also an unbiased classification model. In other words, we expect a calibrated model to yield a fraction of about p events with predicted probability p to actually occur. If our model is assigning a large portion of our samples to a class with low probability of occuring (or vice versa), we would say our model is biased. Calibrating a model is removing bias from the model by ensuring its classifications are distributed similarly to the real distribution.\n",
    "\n",
    "In a system which diagnoses chronic disease, we would want to ensure our model not only accurately predicts the disease, but that it accurately predicts when a patient is disease free. We want to ensure our model is yielding a distribution of positive and negative predictions similar to the actual distribution of positive and negative patients. If our model predicts that 40% of the patients it tests have cancer, and the true number is .05%, the system would cause an unacceptable amount of grief and anguish in misdiagnosed patients, regardless of whether or not it properly classified all of the positive patients. Medical systems such as this must not only be highly accurate but also well-calibrated.\n",
    "\n",
    "Additional Note: While calibrating a model may result in a boost in performance, it will not change the area under the ROC or Lift curves."
   ]
  },
  {
   "cell_type": "markdown",
   "metadata": {},
   "source": [
    "# Question 3 - MNIST Classification (20 pts)\n",
    "\n",
    "In this problem, you will classify between digits 8 and 9 of the MNIST dataset using Logistic Regression, Naive Bayes, and MLP. The code below loads the dataset, splits it into training and testing sets, and extracts the images containing either 8 or 9. The modules you will need from scikit-learn are loaded for you.\n",
    "\n",
    "1. Train Logistic Regression, (Gaussian) Naive Bayes, and MLP classifiers. Extract the probability of the class being 'Digit 8' or 'Digit 9' for every row.\n",
    "\n",
    "2. (6 pts) Use this to plot the receiver operating characteristic (ROC) curve. (one figure for all 3 models, with a label for each line)\n",
    "\n",
    "3. (6 pts) Report the area under the ROC curve (AUC) and the accuracy for each model.\n",
    "\n",
    "4. (6 pts)  For each of the 3 models, show a scatterplot of the obtained posterior probability estimates  vs. ground truth label value, for the data points in the test set. \n",
    "\n",
    "5. (2 pts) What do you notice about the distribution of the Naive Bayes estimated posterior probability values compared to the estimates from the other two models? "
   ]
  },
  {
   "cell_type": "code",
   "execution_count": 27,
   "metadata": {},
   "outputs": [
    {
     "name": "stdout",
     "output_type": "stream",
     "text": [
      "((11742, 784), (11742,), (2041, 784), (2041,))\n"
     ]
    }
   ],
   "source": [
    "# Alternatively, if you have trouble running fetch_mldata(), you can run this cell to get X_train, y_train, X_test, and y_test\n",
    "# I.e., run this cell OR the above 3 to continue with answering this problem.\n",
    "\n",
    "%matplotlib inline\n",
    "import pandas as pd\n",
    "from sklearn.model_selection import train_test_split\n",
    "from sklearn.metrics import roc_curve, roc_auc_score\n",
    "from sklearn.naive_bayes import GaussianNB\n",
    "from sklearn.linear_model import LogisticRegression\n",
    "from sklearn.neural_network import MLPClassifier\n",
    "import numpy as np\n",
    "import matplotlib.pyplot as plt\n",
    "import pickle\n",
    "\n",
    "with open('q3_data.pickle', 'rb') as handle:\n",
    "    data1 = pickle.load(handle)\n",
    "\n",
    "X_train = data1['X_train']\n",
    "y_train = data1['y_train']\n",
    "X_test = data1['X_test']\n",
    "y_test = data1['y_test']\n",
    "\n",
    "print(X_train.shape, y_train.shape, X_test.shape, y_test.shape)"
   ]
  },
  {
   "cell_type": "markdown",
   "metadata": {},
   "source": [
    "## Answer\n",
    "\n",
    "# (3.1) \n",
    "Train Logistic Regression, (Gaussian) Naive Bayes, and MLP classifiers. Extract the probability of the class being 'Digit 8' or 'Digit 9' for every row."
   ]
  },
  {
   "cell_type": "code",
   "execution_count": 28,
   "metadata": {},
   "outputs": [],
   "source": [
    "#declare model, train, and get probabilities for...\n",
    "\n",
    "#Logistic Regression\n",
    "lr = LogisticRegression()\n",
    "lr.fit(X_train, y_train)\n",
    "lr_probs = lr.predict_proba(X_test)\n",
    "\n",
    "#Gaussian Naive Bayes\n",
    "gnb = GaussianNB()\n",
    "gnb.fit(X_train, y_train)\n",
    "gnb_probs = gnb.predict_proba(X_test)\n",
    "\n",
    "#MLP Classifier\n",
    "mlp = MLPClassifier()\n",
    "mlp.fit(X_train, y_train)\n",
    "mlp_probs = mlp.predict_proba(X_test)\n",
    "\n",
    "lr_probs = [i[1] for i in lr_probs]\n",
    "gnb_probs = [i[1] for i in gnb_probs]\n",
    "mlp_probs = [i[1] for i in mlp_probs]"
   ]
  },
  {
   "cell_type": "markdown",
   "metadata": {},
   "source": [
    "# (3.2)\n",
    "(6 pts) Use this to plot the receiver operating characteristic (ROC) curve. (one figure for all 3 models, with a label for each line)"
   ]
  },
  {
   "cell_type": "code",
   "execution_count": 29,
   "metadata": {
    "collapsed": true
   },
   "outputs": [],
   "source": [
    "#Get ROC curve for both\n",
    "lr_fpr, lr_tpr, lr_thresholds = roc_curve(y_test, lr_probs)\n",
    "gnb_fpr, gnb_tpr, gnb_thresholds = roc_curve(y_test, gnb_probs)\n",
    "mlp_fpr, mlp_tpr, mlp_thresholds = roc_curve(y_test, mlp_probs)"
   ]
  },
  {
   "cell_type": "code",
   "execution_count": 30,
   "metadata": {},
   "outputs": [
    {
     "data": {
      "text/plain": [
       "<matplotlib.text.Text at 0x116145090>"
      ]
     },
     "execution_count": 30,
     "metadata": {},
     "output_type": "execute_result"
    },
    {
     "data": {
      "image/png": "[encoded data removed]",
      "text/plain": [
       "<matplotlib.figure.Figure at 0x1169003d0>"
      ]
     },
     "metadata": {},
     "output_type": "display_data"
    }
   ],
   "source": [
    "plt.plot(lr_fpr, lr_tpr, label=\"Logistic Regression\", color=\"Orange\", linewidth=3)\n",
    "plt.plot(gnb_fpr, gnb_tpr, label=\"Gaussian Naive Bayes\", color=\"Green\")\n",
    "plt.plot(mlp_fpr, mlp_tpr, label=\"MLP Classifier\", color=\"Blue\", linewidth=1)\n",
    "plt.plot([0,1], [0,1], \"r--\", label=\"Baseline\")\n",
    "plt.legend()\n",
    "plt.xlabel = \"TPR\"\n",
    "plt.title(\"ROC Curve for 3 models\\n x-axis: FPR     y-axis: TPR\")"
   ]
  },
  {
   "cell_type": "markdown",
   "metadata": {},
   "source": [
    "\n",
    "# (3.3) \n",
    "(6 pts) Report the area under the ROC curve (AUC) and the accuracy for each model."
   ]
  },
  {
   "cell_type": "code",
   "execution_count": 31,
   "metadata": {},
   "outputs": [
    {
     "name": "stdout",
     "output_type": "stream",
     "text": [
      "The AUC ROC Score for each model is as follows:\n",
      "Logistic Regression: 0.998226398417\n",
      "Gaussian Naive Bayes: 0.899573893661\n",
      "MLP Classifier: 0.99975019696\n"
     ]
    }
   ],
   "source": [
    "lr_auc = roc_auc_score(y_test, lr_probs)\n",
    "gnb_auc = roc_auc_score(y_test, gnb_probs)\n",
    "mlp_auc = roc_auc_score(y_test, mlp_probs)\n",
    "print(\"The AUC ROC Score for each model is as follows:\")\n",
    "print(\"Logistic Regression: \" + str(lr_auc))\n",
    "print(\"Gaussian Naive Bayes: \" + str(gnb_auc))\n",
    "print(\"MLP Classifier: \" + str(mlp_auc))"
   ]
  },
  {
   "cell_type": "markdown",
   "metadata": {},
   "source": [
    "\n",
    "# (3.4) \n",
    "(6 pts)  For each of the 3 models, show a scatterplot of the obtained posterior probability estimates  vs. ground truth label value, for the data points in the test set. "
   ]
  },
  {
   "cell_type": "code",
   "execution_count": 32,
   "metadata": {
    "collapsed": true
   },
   "outputs": [],
   "source": [
    "estimates = pd.DataFrame({\"y_test\": y_test, \"lr_probs\": lr_probs,\"gnb_probs\": gnb_probs,\"mlp_probs\": mlp_probs})\n",
    "true0 = estimates[estimates[\"y_test\"] == 0]\n",
    "true1 = estimates[estimates[\"y_test\"] == 1]"
   ]
  },
  {
   "cell_type": "code",
   "execution_count": 33,
   "metadata": {},
   "outputs": [
    {
     "data": {
      "text/plain": [
       "<matplotlib.legend.Legend at 0x114dd8c50>"
      ]
     },
     "execution_count": 33,
     "metadata": {},
     "output_type": "execute_result"
    },
    {
     "data": {
      "image/png": "[encoded data removed]",
      "text/plain": [
       "<matplotlib.figure.Figure at 0x116ca5cd0>"
      ]
     },
     "metadata": {},
     "output_type": "display_data"
    }
   ],
   "source": [
    "plt.scatter(true0['lr_probs'],true0['y_test'],color='blue', label=\"label 0\", marker=\"1\")\n",
    "plt.scatter(true1['lr_probs'],true1['y_test'],color='purple', label=\"label 1\", marker=\"1\")\n",
    "plt.title(\"Posterior Probability vs Ground Truth\\nFor Logistic Regression Model\")\n",
    "plt.legend()"
   ]
  },
  {
   "cell_type": "code",
   "execution_count": 34,
   "metadata": {},
   "outputs": [
    {
     "data": {
      "text/plain": [
       "<matplotlib.legend.Legend at 0x1102e3990>"
      ]
     },
     "execution_count": 34,
     "metadata": {},
     "output_type": "execute_result"
    },
    {
     "data": {
      "image/png": "[encoded data removed]",
      "text/plain": [
       "<matplotlib.figure.Figure at 0x114ca45d0>"
      ]
     },
     "metadata": {},
     "output_type": "display_data"
    }
   ],
   "source": [
    "plt.scatter(true0['gnb_probs'],true0['y_test'],color='gold', label=\"label 0\", marker=\"1\")\n",
    "plt.scatter(true1['gnb_probs'],true1['y_test'],color='green', label=\"label 1\", marker=\"1\")\n",
    "plt.title(\"Posterior Probability vs Ground Truth\\nFor Naive Bayes Model\")\n",
    "plt.legend()"
   ]
  },
  {
   "cell_type": "code",
   "execution_count": 35,
   "metadata": {},
   "outputs": [
    {
     "data": {
      "text/plain": [
       "<matplotlib.legend.Legend at 0x114e7ea10>"
      ]
     },
     "execution_count": 35,
     "metadata": {},
     "output_type": "execute_result"
    },
    {
     "data": {
      "image/png": "[encoded data removed]",
      "text/plain": [
       "<matplotlib.figure.Figure at 0x1101fe7d0>"
      ]
     },
     "metadata": {},
     "output_type": "display_data"
    }
   ],
   "source": [
    "plt.scatter(true0['mlp_probs'],true0['y_test'],color='red', label=\"label 0\", marker=\"1\")\n",
    "plt.scatter(true1['mlp_probs'],true1['y_test'],color='orange', label=\"label 1\", marker=\"1\")\n",
    "plt.title(\"Posterior Probability vs Ground Truth\\nFor MLP Classifier Model\")\n",
    "plt.legend()"
   ]
  },
  {
   "cell_type": "markdown",
   "metadata": {},
   "source": [
    "\n",
    "# (3.5) \n",
    "(2 pts) What do you notice about the distribution of the Naive Bayes estimated posterior probability values compared to the estimates from the other two models? "
   ]
  },
  {
   "cell_type": "markdown",
   "metadata": {},
   "source": [
    "### The Naive Bayes Model is much more sparse than the others. It seems that all of the data points were being separated into ~20 distinct values"
   ]
  }
 ],
 "metadata": {
  "kernelspec": {
   "display_name": "Python 2",
   "language": "python",
   "name": "python2"
  },
  "language_info": {
   "codemirror_mode": {
    "name": "ipython",
    "version": 2
   },
   "file_extension": ".py",
   "mimetype": "text/x-python",
   "name": "python",
   "nbconvert_exporter": "python",
   "pygments_lexer": "ipython2",
   "version": "2.7.13"
  }
 },
 "nbformat": 4,
 "nbformat_minor": 2
}
