{
 "cells": [
  {
   "cell_type": "code",
   "execution_count": 22,
   "metadata": {},
   "outputs": [],
   "source": [
    "from sklearn.ensemble import RandomForestClassifier\n",
    "from sklearn.metrics import roc_auc_score\n",
    "import pandas as pd\n",
    "\n",
    "data = pd.read_csv('train_final.csv')\n",
    "data = data.sample(frac=1)\n",
    "\n",
    "Y = pd.DataFrame(data.Y)\n",
    "X = data.drop('Y', axis=1)\n",
    "X = X.drop('Id', axis=1)\n",
    "\n",
    "x_test = pd.read_csv('final_3000.csv')\n",
    "x_test_Y = x_test.Y\n",
    "x_test = x_test.drop('Id', axis=1)\n",
    "x_test = x_test.drop('Y', axis=1)"
   ]
  },
  {
   "cell_type": "code",
   "execution_count": 23,
   "metadata": {},
   "outputs": [
    {
     "name": "stderr",
     "output_type": "stream",
     "text": [
      "C:\\Users\\caleb\\Anaconda3\\envs\\neuralnets\\lib\\site-packages\\ipykernel_launcher.py:3: DataConversionWarning: A column-vector y was passed when a 1d array was expected. Please change the shape of y to (n_samples,), for example using ravel().\n",
      "  This is separate from the ipykernel package so we can avoid doing imports until\n"
     ]
    },
    {
     "name": "stdout",
     "output_type": "stream",
     "text": [
      "[5.38850072e-02 1.63844538e-02 1.20449365e-02 6.90506650e-02\n",
      " 2.19290322e-02 4.45567847e-04 4.23388160e-02 5.04630747e-02\n",
      " 6.01390271e-03 1.17754375e-02 9.87580960e-05 1.09479522e-02\n",
      " 4.01230206e-02 4.19992133e-01 4.90735281e-02 4.05242097e-02\n",
      " 5.10916122e-02 7.36873567e-04 5.67295590e-02 2.79801515e-03\n",
      " 5.21458964e-03 8.02214215e-03 2.73324755e-02 2.98423810e-03]\n"
     ]
    }
   ],
   "source": [
    "clf = RandomForestClassifier(n_estimators=100, max_depth=4)\n",
    "\n",
    "clf.fit(X,Y)\n",
    "class_weights={0:17, 1:1}\n",
    "RandomForestClassifier(bootstrap=True, class_weight=class_weights, criterion='gini', max_features='auto', max_leaf_nodes=None, n_estimators=100)\n",
    "print(clf.feature_importances_)\n",
    "\n"
   ]
  },
  {
   "cell_type": "code",
   "execution_count": 24,
   "metadata": {},
   "outputs": [
    {
     "data": {
      "text/plain": [
       "0.5"
      ]
     },
     "execution_count": 24,
     "metadata": {},
     "output_type": "execute_result"
    }
   ],
   "source": [
    "yguess = clf.predict(X)\n",
    "score = roc_auc_score(Y, yguess)\n",
    "score"
   ]
  },
  {
   "cell_type": "code",
   "execution_count": 25,
   "metadata": {},
   "outputs": [
    {
     "data": {
      "text/plain": [
       "0.5"
      ]
     },
     "execution_count": 25,
     "metadata": {},
     "output_type": "execute_result"
    }
   ],
   "source": [
    "train_final = pd.read_csv(\"final_3000.csv\")\n",
    "train_final_Y = train_final.Y\n",
    "train_final = train_final.drop('Y', axis=1)\n",
    "train_final = train_final.drop('Id', axis=1)\n",
    "yguess = clf.predict(train_final)\n",
    "score = roc_auc_score(train_final_Y, yguess)\n",
    "score"
   ]
  },
  {
   "cell_type": "code",
   "execution_count": null,
   "metadata": {},
   "outputs": [],
   "source": []
  }
 ],
 "metadata": {
  "kernelspec": {
   "display_name": "Python 3",
   "language": "python",
   "name": "python3"
  },
  "language_info": {
   "codemirror_mode": {
    "name": "ipython",
    "version": 3
   },
   "file_extension": ".py",
   "mimetype": "text/x-python",
   "name": "python",
   "nbconvert_exporter": "python",
   "pygments_lexer": "ipython3",
   "version": "3.6.6"
  }
 },
 "nbformat": 4,
 "nbformat_minor": 2
}
