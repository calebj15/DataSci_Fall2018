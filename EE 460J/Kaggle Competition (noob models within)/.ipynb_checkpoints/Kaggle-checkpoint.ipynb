{
 "cells": [
  {
   "cell_type": "markdown",
   "metadata": {},
   "source": [
    "# Caleb Johnson\n",
    "# cdj2273\n",
    "# EE 460J Kaggle Competition\n"
   ]
  },
  {
   "cell_type": "markdown",
   "metadata": {},
   "source": [
    "# a) First I wanted to look at the data and view a correlation matrix to see if anything stood out. Some slight correlations between columns, but no apparent correlations between columns and Y.\n"
   ]
  },
  {
   "cell_type": "code",
   "execution_count": 596,
   "metadata": {},
   "outputs": [],
   "source": [
    "import pandas as pd\n",
    "import matplotlib.pyplot as plt\n",
    "import numpy as np\n",
    "import seaborn as sns\n",
    "import tensorflow as tf\n",
    "from sklearn.metrics import roc_auc_score\n",
    "from sklearn.utils import class_weight\n",
    "from sklearn.model_selection import train_test_split\n",
    "from sklearn.preprocessing import LabelEncoder\n",
    "from sklearn.preprocessing import StandardScaler\n",
    "from sklearn.pipeline import Pipeline\n",
    "from keras.models import Sequential\n",
    "from keras.layers import Dense\n",
    "from keras.wrappers.scikit_learn import KerasClassifier\n",
    "from sklearn.model_selection import StratifiedKFold\n",
    "from sklearn.model_selection import cross_val_score\n",
    "\n",
    "%matplotlib inline\n",
    "\n",
    "sess = tf.Session(config=tf.ConfigProto(log_device_placement=True))\n",
    "\n",
    "data = pd.read_csv('train_final.csv')\n",
    "data = data.sample(frac=1)\n"
   ]
  },
  {
   "cell_type": "code",
   "execution_count": 597,
   "metadata": {},
   "outputs": [
    {
     "data": {
      "text/plain": [
       "<matplotlib.axes._subplots.AxesSubplot at 0x2a7dbd5d4a8>"
      ]
     },
     "execution_count": 597,
     "metadata": {},
     "output_type": "execute_result"
    },
    {
     "data": {
      "image/png": "[encoded data removed]",
      "text/plain": [
       "<Figure size 792x648 with 2 Axes>"
      ]
     },
     "metadata": {
      "needs_background": "light"
     },
     "output_type": "display_data"
    }
   ],
   "source": [
    "\n",
    "corr = data.corr()\n",
    "\n",
    "# Generate a mask for the upper triangle\n",
    "mask = np.zeros_like(corr, dtype=np.bool)\n",
    "mask[np.triu_indices_from(mask)] = True\n",
    "\n",
    "# Set up the matplotlib figure\n",
    "f, ax = plt.subplots(figsize=(11, 9))\n",
    "\n",
    "# Generate a custom diverging colormap\n",
    "cmap = sns.diverging_palette(220, 10, as_cmap=True)\n",
    "\n",
    "# Draw the heatmap with the mask and correct aspect ratio\n",
    "sns.heatmap(corr, mask=mask, cmap=cmap, vmax=.3, center=0,\n",
    "            square=True, linewidths=.5, cbar_kws={\"shrink\": .5})"
   ]
  },
  {
   "cell_type": "markdown",
   "metadata": {},
   "source": [
    "# b) Check for any missing values. There are none."
   ]
  },
  {
   "cell_type": "code",
   "execution_count": 598,
   "metadata": {},
   "outputs": [
    {
     "data": {
      "text/plain": [
       "[]"
      ]
     },
     "execution_count": 598,
     "metadata": {},
     "output_type": "execute_result"
    }
   ],
   "source": [
    "[data.iloc[i, j] for i,j in zip(*np.where(pd.isnull(data)))]"
   ]
  },
  {
   "cell_type": "markdown",
   "metadata": {},
   "source": [
    "# Check all my feature data types and Y data type. (All numerical) Set up my X and Y data."
   ]
  },
  {
   "cell_type": "code",
   "execution_count": 599,
   "metadata": {},
   "outputs": [
    {
     "name": "stdout",
     "output_type": "stream",
     "text": [
      "<class 'pandas.core.frame.DataFrame'>\n",
      "Int64Index: 13500 entries, 3895 to 3823\n",
      "Data columns (total 26 columns):\n",
      "Id     13500 non-null int64\n",
      "Y      13500 non-null int64\n",
      "f1     13500 non-null int64\n",
      "f2     13500 non-null int64\n",
      "f3     13500 non-null float64\n",
      "f4     13500 non-null int64\n",
      "f5     13500 non-null int64\n",
      "f6     13500 non-null int64\n",
      "f7     13500 non-null int64\n",
      "f8     13500 non-null int64\n",
      "f9     13500 non-null int64\n",
      "f10    13500 non-null int64\n",
      "f11    13500 non-null int64\n",
      "f12    13500 non-null int64\n",
      "f13    13500 non-null int64\n",
      "f14    13500 non-null float64\n",
      "f15    13500 non-null int64\n",
      "f16    13500 non-null int64\n",
      "f17    13500 non-null int64\n",
      "f18    13500 non-null int64\n",
      "f19    13500 non-null int64\n",
      "f20    13500 non-null int64\n",
      "f21    13500 non-null int64\n",
      "f22    13500 non-null int64\n",
      "f23    13500 non-null int64\n",
      "f24    13500 non-null int64\n",
      "dtypes: float64(2), int64(24)\n",
      "memory usage: 2.8 MB\n"
     ]
    },
    {
     "data": {
      "text/plain": [
       "(13500,)"
      ]
     },
     "execution_count": 599,
     "metadata": {},
     "output_type": "execute_result"
    }
   ],
   "source": [
    "prediction_var = ['f1', 'f2', 'f3', 'f4', 'f5', 'f6', 'f7','f8', 'f9', 'f10', 'f11', 'f12', 'f13', 'f14', 'f15', 'f16', 'f17', 'f18', 'f19', 'f20',\n",
    "                  'f21', 'f22', 'f23', 'f24']\n",
    "\n",
    "X = data[prediction_var].values\n",
    "Y = data.Y.values\n",
    "data.info()\n",
    "Y.shape"
   ]
  },
  {
   "cell_type": "code",
   "execution_count": 624,
   "metadata": {},
   "outputs": [],
   "source": [
    "def create_baseline():\n",
    "    #create model\n",
    "    model = Sequential()\n",
    "    model.add(Dense(18, input_dim=24, kernel_initializer='normal', activation='relu'))\n",
    "    model.add(Dense(15, kernel_initializer='normal', activation='relu'))\n",
    "    model.add(Dense(1, kernel_initializer='normal', activation='sigmoid'))\n",
    "    \n",
    "    model.compile(loss='binary_crossentropy', optimizer='adam', metrics=['accuracy'])\n",
    "    return model"
   ]
  },
  {
   "cell_type": "code",
   "execution_count": 645,
   "metadata": {},
   "outputs": [],
   "source": [
    "estimators = []\n",
    "estimators.append(('standardize', StandardScaler()))\n",
    "class_weights = {0:13, 1:1}\n",
    "estimators.append(('mlp', KerasClassifier(build_fn=create_baseline, epochs=90, batch_size=500, class_weight=class_weights, verbose=0)))\n",
    "pipeline = Pipeline(estimators)\n",
    "kfold = StratifiedKFold(n_splits=10, shuffle=True)\n",
    "#results = cross_val_score(pipeline, X, Y, cv=kfold)\n",
    "#print(\"Results: %.2f%% (%.2f%%)\" % (results.mean()*100, results.std()*100))"
   ]
  },
  {
   "cell_type": "code",
   "execution_count": 646,
   "metadata": {},
   "outputs": [
    {
     "name": "stderr",
     "output_type": "stream",
     "text": [
      "C:\\Users\\caleb\\Anaconda3\\envs\\neuralnets\\lib\\site-packages\\sklearn\\pipeline.py:331: DataConversionWarning: Data with input dtype int64, float64 were all converted to float64 by StandardScaler.\n",
      "  Xt = transform.transform(Xt)\n"
     ]
    },
    {
     "name": "stdout",
     "output_type": "stream",
     "text": [
      "0.7251329567854997\n"
     ]
    },
    {
     "data": {
      "text/plain": [
       "10411"
      ]
     },
     "execution_count": 646,
     "metadata": {},
     "output_type": "execute_result"
    }
   ],
   "source": [
    "x_test = pd.read_csv('test_final.csv')\n",
    "x_test = x_test.drop('Id', 1)\n",
    "pipeline.fit(X,Y)\n",
    "yhat = pipeline.predict(x_test)\n",
    "yguess = pipeline.predict(X)\n",
    "score = roc_auc_score(Y, yguess)\n",
    "print(score)\n",
    "yguess.astype(bool).sum()"
   ]
  },
  {
   "cell_type": "code",
   "execution_count": 647,
   "metadata": {},
   "outputs": [],
   "source": [
    "yhat = pd.DataFrame(yhat)"
   ]
  },
  {
   "cell_type": "code",
   "execution_count": 648,
   "metadata": {},
   "outputs": [],
   "source": [
    "yhat.to_csv(\"NN_Day1\")"
   ]
  },
  {
   "cell_type": "code",
   "execution_count": 649,
   "metadata": {},
   "outputs": [
    {
     "name": "stderr",
     "output_type": "stream",
     "text": [
      "C:\\Users\\caleb\\Anaconda3\\envs\\neuralnets\\lib\\site-packages\\sklearn\\pipeline.py:331: DataConversionWarning: Data with input dtype int64, float64 were all converted to float64 by StandardScaler.\n",
      "  Xt = transform.transform(Xt)\n"
     ]
    },
    {
     "data": {
      "text/plain": [
       "0.7141147921502426"
      ]
     },
     "execution_count": 649,
     "metadata": {},
     "output_type": "execute_result"
    }
   ],
   "source": [
    "train_final = pd.read_csv(\"final_3000.csv\")\n",
    "train_final_Y = train_final.Y\n",
    "train_final = train_final.drop('Y', axis=1)\n",
    "train_final = train_final.drop('Id', axis=1)\n",
    "yguess = pipeline.predict(train_final)\n",
    "score = roc_auc_score(train_final_Y, yguess)\n",
    "score"
   ]
  },
  {
   "cell_type": "code",
   "execution_count": null,
   "metadata": {},
   "outputs": [],
   "source": []
  }
 ],
 "metadata": {
  "kernelspec": {
   "display_name": "Python 3",
   "language": "python",
   "name": "python3"
  },
  "language_info": {
   "codemirror_mode": {
    "name": "ipython",
    "version": 3
   },
   "file_extension": ".py",
   "mimetype": "text/x-python",
   "name": "python",
   "nbconvert_exporter": "python",
   "pygments_lexer": "ipython3",
   "version": "3.6.6"
  }
 },
 "nbformat": 4,
 "nbformat_minor": 2
}
